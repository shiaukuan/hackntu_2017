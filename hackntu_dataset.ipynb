{
 "cells": [
  {
   "cell_type": "code",
   "execution_count": 67,
   "metadata": {
    "collapsed": false
   },
   "outputs": [
    {
     "name": "stdout",
     "output_type": "stream",
     "text": [
      "Populating the interactive namespace from numpy and matplotlib\n"
     ]
    }
   ],
   "source": [
    "# -*- coding: utf8 -*-\n",
    "%pylab inline\n",
    "\n",
    "import pandas as pd\n",
    "import numpy as np\n",
    "pd.set_option('display.mpl_style', 'default') # Make the graphs a bit prettier\n",
    "plt.rcParams['figure.figsize'] = (12, 5)\n",
    "import json"
   ]
  },
  {
   "cell_type": "markdown",
   "metadata": {},
   "source": [
    "### profile\n",
    "\n",
    "| field            | type   | Description              |\n",
    "|------------------|--------|--------------------------|\n",
    "| customer_id      | String | 客戶 ID                  |\n",
    "| birth_time       | Long   | 出生時間戳記              |\n",
    "| gender           | String | 性別                     |\n",
    "| contact_loc      | String | 居住地區                  |\n",
    "| contact_code     | String | 居住地區郵遞區號代碼       |\n",
    "| register_loc     | String | 戶籍地區                  |\n",
    "| register_code    | String | 戶籍地區郵遞區號代碼     |\n",
    "| start_time       | Long   | 起始往來時間戳記         |\n",
    "| aum              | Double | 近三個月平均的總資產餘額 |\n",
    "| net_profit       | Double | 近一年淨收益             |\n",
    "| credit_card_flag | String | 是否有信用卡產品往來     |\n",
    "| loan_flag        | String | 是否有貸款產品往來       |\n",
    "| deposit_flag     | String | 是否有存款產品往來       |\n",
    "| wealth_flag      | String | 是否有理財產品往來       |\n",
    "| partition_time   | Long   | snapshot時間戳記     |"
   ]
  },
  {
   "cell_type": "code",
   "execution_count": 21,
   "metadata": {
    "collapsed": false
   },
   "outputs": [
    {
     "data": {
      "text/html": [
       "<div>\n",
       "<table border=\"1\" class=\"dataframe\">\n",
       "  <thead>\n",
       "    <tr style=\"text-align: right;\">\n",
       "      <th></th>\n",
       "      <th>customer_id</th>\n",
       "      <th>birth_time</th>\n",
       "      <th>gender</th>\n",
       "      <th>contact_loc</th>\n",
       "      <th>contact_code</th>\n",
       "      <th>register_loc</th>\n",
       "      <th>register_code</th>\n",
       "      <th>start_time</th>\n",
       "      <th>aum</th>\n",
       "      <th>net_profit</th>\n",
       "      <th>credit_card_flag</th>\n",
       "      <th>loan_flag</th>\n",
       "      <th>deposit_flag</th>\n",
       "      <th>wealth_flag</th>\n",
       "      <th>partition_time</th>\n",
       "    </tr>\n",
       "  </thead>\n",
       "  <tbody>\n",
       "    <tr>\n",
       "      <th>0</th>\n",
       "      <td>1</td>\n",
       "      <td>1083060338</td>\n",
       "      <td>F</td>\n",
       "      <td>I</td>\n",
       "      <td>292141</td>\n",
       "      <td>F</td>\n",
       "      <td>606063</td>\n",
       "      <td>3667420800</td>\n",
       "      <td>173.028965</td>\n",
       "      <td>168.625836</td>\n",
       "      <td>Y</td>\n",
       "      <td>Y</td>\n",
       "      <td>Y</td>\n",
       "      <td>Y</td>\n",
       "      <td>3696969600</td>\n",
       "    </tr>\n",
       "    <tr>\n",
       "      <th>1</th>\n",
       "      <td>1</td>\n",
       "      <td>1083060338</td>\n",
       "      <td>F</td>\n",
       "      <td>I</td>\n",
       "      <td>292141</td>\n",
       "      <td>F</td>\n",
       "      <td>606063</td>\n",
       "      <td>3667420800</td>\n",
       "      <td>169.550963</td>\n",
       "      <td>168.467397</td>\n",
       "      <td>Y</td>\n",
       "      <td>Y</td>\n",
       "      <td>Y</td>\n",
       "      <td>N</td>\n",
       "      <td>3699475200</td>\n",
       "    </tr>\n",
       "  </tbody>\n",
       "</table>\n",
       "</div>"
      ],
      "text/plain": [
       "   customer_id  birth_time gender contact_loc  contact_code register_loc  \\\n",
       "0            1  1083060338      F           I        292141            F   \n",
       "1            1  1083060338      F           I        292141            F   \n",
       "\n",
       "   register_code  start_time         aum  net_profit credit_card_flag  \\\n",
       "0         606063  3667420800  173.028965  168.625836                Y   \n",
       "1         606063  3667420800  169.550963  168.467397                Y   \n",
       "\n",
       "  loan_flag deposit_flag wealth_flag  partition_time  \n",
       "0         Y            Y           Y      3696969600  \n",
       "1         Y            Y           N      3699475200  "
      ]
     },
     "execution_count": 21,
     "metadata": {},
     "output_type": "execute_result"
    }
   ],
   "source": [
    "data=pd.read_csv(\"profile_1.csv\")\n",
    "data"
   ]
  },
  {
   "cell_type": "markdown",
   "metadata": {},
   "source": [
    "## event\n",
    "### themes\n",
    "* cctxn  信用卡消費\n",
    "* atm    ATM 交易\n",
    "* cti    客服中心進線\n",
    "* mybank MyBank 交易\n",
    "\n",
    "\n",
    "\n",
    "| field          | type   | description                          |\n",
    "|----------------|--------|--------------------------------------|\n",
    "| actor_type     | String | 值皆是\"customer_id\"                  |\n",
    "| actor_id       | String | 行為者ID                             |\n",
    "| action_type    | String | 行為類型                             |\n",
    "| action_time    | Long   | 行為發生時間戳記                     |\n",
    "| object_type    | String | 影響物件類型                         |\n",
    "| object_id      | String | 影響物件ID                           |\n",
    "| channel_type   | String | 通路類型                             |\n",
    "| channel_id     | String | 通路ID                               |\n",
    "| attrs          | String | 補充資料 - JSON string               |\n",
    "| partition_time | Long   | 最近上一區段時間戳記 (可串連profile) |\n",
    "| theme          | String | 主題 - cc_txn, atm, cti, mybank      |"
   ]
  },
  {
   "cell_type": "markdown",
   "metadata": {},
   "source": [
    "# cctxn 信用卡消費"
   ]
  },
  {
   "cell_type": "code",
   "execution_count": 45,
   "metadata": {
    "collapsed": false
   },
   "outputs": [
    {
     "data": {
      "text/html": [
       "<div>\n",
       "<table border=\"1\" class=\"dataframe\">\n",
       "  <thead>\n",
       "    <tr style=\"text-align: right;\">\n",
       "      <th></th>\n",
       "      <th>actor_type</th>\n",
       "      <th>actor_id</th>\n",
       "      <th>action_type</th>\n",
       "      <th>action_time</th>\n",
       "      <th>object_type</th>\n",
       "      <th>object_id</th>\n",
       "      <th>channel_type</th>\n",
       "      <th>channel_id</th>\n",
       "      <th>attrs</th>\n",
       "      <th>partition_time</th>\n",
       "      <th>theme</th>\n",
       "    </tr>\n",
       "  </thead>\n",
       "  <tbody>\n",
       "    <tr>\n",
       "      <th>0</th>\n",
       "      <td>customer_id</td>\n",
       "      <td>1</td>\n",
       "      <td>cash_advance</td>\n",
       "      <td>3697095641</td>\n",
       "      <td>merchant_nbr</td>\n",
       "      <td>QYOJMXCCREMKJEOKLWUI</td>\n",
       "      <td>credit_card</td>\n",
       "      <td>ZLRJTUPFJSDRFJFKURQP</td>\n",
       "      <td>{\"action\": {\"txn_amt\": 636.1045150272515, \"ori...</td>\n",
       "      <td>3696969600</td>\n",
       "      <td>cc_txn</td>\n",
       "    </tr>\n",
       "    <tr>\n",
       "      <th>1</th>\n",
       "      <td>customer_id</td>\n",
       "      <td>1</td>\n",
       "      <td>purchase_consumption</td>\n",
       "      <td>3697656582</td>\n",
       "      <td>merchant_nbr</td>\n",
       "      <td>RVZPYYIYSDYAMPVLOVFJ</td>\n",
       "      <td>credit_card</td>\n",
       "      <td>SHHCTTOLPRNOTGPVYFXR</td>\n",
       "      <td>{\"action\": {\"txn_amt\": 753.3877214961954, \"ori...</td>\n",
       "      <td>3696969600</td>\n",
       "      <td>cc_txn</td>\n",
       "    </tr>\n",
       "    <tr>\n",
       "      <th>2</th>\n",
       "      <td>customer_id</td>\n",
       "      <td>1</td>\n",
       "      <td>purchase_consumption</td>\n",
       "      <td>3698028058</td>\n",
       "      <td>merchant_nbr</td>\n",
       "      <td>UOHNJGTLKWKMTWFRJCNY</td>\n",
       "      <td>credit_card</td>\n",
       "      <td>FFSJSSCIVHDCIULWPPNT</td>\n",
       "      <td>{\"action\": {\"txn_amt\": 319.7759132835427, \"ori...</td>\n",
       "      <td>3696969600</td>\n",
       "      <td>cc_txn</td>\n",
       "    </tr>\n",
       "    <tr>\n",
       "      <th>3</th>\n",
       "      <td>customer_id</td>\n",
       "      <td>1</td>\n",
       "      <td>purchase_consumption</td>\n",
       "      <td>3698071617</td>\n",
       "      <td>merchant_nbr</td>\n",
       "      <td>CGTNCWJLGOYAKVVLQXGP</td>\n",
       "      <td>credit_card</td>\n",
       "      <td>ZUAEEVYUBPCUXYCRUHZY</td>\n",
       "      <td>{\"action\": {\"txn_amt\": 147.37008400058028, \"or...</td>\n",
       "      <td>3696969600</td>\n",
       "      <td>cc_txn</td>\n",
       "    </tr>\n",
       "    <tr>\n",
       "      <th>4</th>\n",
       "      <td>customer_id</td>\n",
       "      <td>1</td>\n",
       "      <td>cash_advance</td>\n",
       "      <td>3698251396</td>\n",
       "      <td>merchant_nbr</td>\n",
       "      <td>INZHHMCNOKDSMKNKEJPI</td>\n",
       "      <td>credit_card</td>\n",
       "      <td>CVENEQKVTZQRDKBFTWTH</td>\n",
       "      <td>{\"action\": {\"txn_amt\": 196.1426842614706, \"ori...</td>\n",
       "      <td>3696969600</td>\n",
       "      <td>cc_txn</td>\n",
       "    </tr>\n",
       "    <tr>\n",
       "      <th>5</th>\n",
       "      <td>customer_id</td>\n",
       "      <td>1</td>\n",
       "      <td>cash_advance</td>\n",
       "      <td>3698821969</td>\n",
       "      <td>merchant_nbr</td>\n",
       "      <td>OLIFHVJOKMKXLVKBRNAJ</td>\n",
       "      <td>credit_card</td>\n",
       "      <td>AIIJNCLECPSDLVBDHYUI</td>\n",
       "      <td>{\"action\": {\"txn_amt\": 546.8599399230856, \"ori...</td>\n",
       "      <td>3696969600</td>\n",
       "      <td>cc_txn</td>\n",
       "    </tr>\n",
       "  </tbody>\n",
       "</table>\n",
       "</div>"
      ],
      "text/plain": [
       "    actor_type  actor_id           action_type  action_time   object_type  \\\n",
       "0  customer_id         1          cash_advance   3697095641  merchant_nbr   \n",
       "1  customer_id         1  purchase_consumption   3697656582  merchant_nbr   \n",
       "2  customer_id         1  purchase_consumption   3698028058  merchant_nbr   \n",
       "3  customer_id         1  purchase_consumption   3698071617  merchant_nbr   \n",
       "4  customer_id         1          cash_advance   3698251396  merchant_nbr   \n",
       "5  customer_id         1          cash_advance   3698821969  merchant_nbr   \n",
       "\n",
       "              object_id channel_type            channel_id  \\\n",
       "0  QYOJMXCCREMKJEOKLWUI  credit_card  ZLRJTUPFJSDRFJFKURQP   \n",
       "1  RVZPYYIYSDYAMPVLOVFJ  credit_card  SHHCTTOLPRNOTGPVYFXR   \n",
       "2  UOHNJGTLKWKMTWFRJCNY  credit_card  FFSJSSCIVHDCIULWPPNT   \n",
       "3  CGTNCWJLGOYAKVVLQXGP  credit_card  ZUAEEVYUBPCUXYCRUHZY   \n",
       "4  INZHHMCNOKDSMKNKEJPI  credit_card  CVENEQKVTZQRDKBFTWTH   \n",
       "5  OLIFHVJOKMKXLVKBRNAJ  credit_card  AIIJNCLECPSDLVBDHYUI   \n",
       "\n",
       "                                               attrs  partition_time   theme  \n",
       "0  {\"action\": {\"txn_amt\": 636.1045150272515, \"ori...      3696969600  cc_txn  \n",
       "1  {\"action\": {\"txn_amt\": 753.3877214961954, \"ori...      3696969600  cc_txn  \n",
       "2  {\"action\": {\"txn_amt\": 319.7759132835427, \"ori...      3696969600  cc_txn  \n",
       "3  {\"action\": {\"txn_amt\": 147.37008400058028, \"or...      3696969600  cc_txn  \n",
       "4  {\"action\": {\"txn_amt\": 196.1426842614706, \"ori...      3696969600  cc_txn  \n",
       "5  {\"action\": {\"txn_amt\": 546.8599399230856, \"ori...      3696969600  cc_txn  "
      ]
     },
     "execution_count": 45,
     "metadata": {},
     "output_type": "execute_result"
    }
   ],
   "source": [
    "data=pd.read_csv(\"cctxn_1.csv\")\n",
    "data"
   ]
  },
  {
   "cell_type": "markdown",
   "metadata": {},
   "source": [
    "# cctxn 的 attrs 裡面的資料 不知道是什麼?"
   ]
  },
  {
   "cell_type": "code",
   "execution_count": 46,
   "metadata": {
    "collapsed": false
   },
   "outputs": [
    {
     "data": {
      "text/plain": [
       "{u'action': {u'original_currency_code': u'TWD', u'txn_amt': 636.1045150272515},\n",
       " u'channel': {u'card_level': u'4', u'card_type': u'A'},\n",
       " u'object': {u'merchant_category_code': u'03661'}}"
      ]
     },
     "execution_count": 46,
     "metadata": {},
     "output_type": "execute_result"
    }
   ],
   "source": [
    "data['attrs'].apply(lambda x:json.loads(x))[0]"
   ]
  },
  {
   "cell_type": "code",
   "execution_count": 47,
   "metadata": {
    "collapsed": false
   },
   "outputs": [
    {
     "data": {
      "text/plain": [
       "{u'action': {u'original_currency_code': u'TWD', u'txn_amt': 753.3877214961954},\n",
       " u'channel': {u'card_level': u'3', u'card_type': u'A'},\n",
       " u'object': {u'merchant_category_code': u'09223'}}"
      ]
     },
     "execution_count": 47,
     "metadata": {},
     "output_type": "execute_result"
    }
   ],
   "source": [
    "data['attrs'].apply(lambda x:json.loads(x))[1]"
   ]
  },
  {
   "cell_type": "code",
   "execution_count": 48,
   "metadata": {
    "collapsed": false
   },
   "outputs": [
    {
     "data": {
      "text/plain": [
       "{u'action': {u'original_currency_code': u'TWD', u'txn_amt': 319.7759132835427},\n",
       " u'channel': {u'card_level': u'4', u'card_type': u'B'},\n",
       " u'object': {u'merchant_category_code': u'0LLL4'}}"
      ]
     },
     "execution_count": 48,
     "metadata": {},
     "output_type": "execute_result"
    }
   ],
   "source": [
    "data['attrs'].apply(lambda x:json.loads(x))[2]"
   ]
  },
  {
   "cell_type": "markdown",
   "metadata": {},
   "source": [
    "# atm ATM 交易"
   ]
  },
  {
   "cell_type": "code",
   "execution_count": 49,
   "metadata": {
    "collapsed": false
   },
   "outputs": [
    {
     "data": {
      "text/html": [
       "<div>\n",
       "<table border=\"1\" class=\"dataframe\">\n",
       "  <thead>\n",
       "    <tr style=\"text-align: right;\">\n",
       "      <th></th>\n",
       "      <th>actor_type</th>\n",
       "      <th>actor_id</th>\n",
       "      <th>action_type</th>\n",
       "      <th>action_time</th>\n",
       "      <th>object_type</th>\n",
       "      <th>object_id</th>\n",
       "      <th>channel_type</th>\n",
       "      <th>channel_id</th>\n",
       "      <th>attrs</th>\n",
       "      <th>partition_time</th>\n",
       "      <th>theme</th>\n",
       "    </tr>\n",
       "  </thead>\n",
       "  <tbody>\n",
       "    <tr>\n",
       "      <th>0</th>\n",
       "      <td>customer_id</td>\n",
       "      <td>1</td>\n",
       "      <td>inquire</td>\n",
       "      <td>3697441132</td>\n",
       "      <td>saving_acct</td>\n",
       "      <td>NAHPXDFRQHWJMUOPGVKY</td>\n",
       "      <td>ATM</td>\n",
       "      <td>BFWIMSCOXPEYPLIDHYXA</td>\n",
       "      <td>{\"action\": {\"txn_amt\": 0.0, \"txn_fee_amt\": 0.0...</td>\n",
       "      <td>3696969600</td>\n",
       "      <td>atm</td>\n",
       "    </tr>\n",
       "    <tr>\n",
       "      <th>1</th>\n",
       "      <td>customer_id</td>\n",
       "      <td>1</td>\n",
       "      <td>withdraw</td>\n",
       "      <td>3697581404</td>\n",
       "      <td>saving_acct</td>\n",
       "      <td>NRMKUUHUWSLOTVHDLYYA</td>\n",
       "      <td>ATM</td>\n",
       "      <td>VJLWIOOEDTKTUXNCOKEZ</td>\n",
       "      <td>{\"action\": {\"txn_amt\": 104.17926497357601, \"tx...</td>\n",
       "      <td>3696969600</td>\n",
       "      <td>atm</td>\n",
       "    </tr>\n",
       "    <tr>\n",
       "      <th>2</th>\n",
       "      <td>customer_id</td>\n",
       "      <td>1</td>\n",
       "      <td>transfer</td>\n",
       "      <td>3697935222</td>\n",
       "      <td>saving_acct</td>\n",
       "      <td>UTMFOCJZSZLVQIPWPORO</td>\n",
       "      <td>ATM</td>\n",
       "      <td>OHKONNHJHIYHGHJCTJHQ</td>\n",
       "      <td>{\"action\": {\"txn_amt\": 1265.7452899489804, \"tx...</td>\n",
       "      <td>3696969600</td>\n",
       "      <td>atm</td>\n",
       "    </tr>\n",
       "    <tr>\n",
       "      <th>3</th>\n",
       "      <td>customer_id</td>\n",
       "      <td>1</td>\n",
       "      <td>transfer</td>\n",
       "      <td>3697970913</td>\n",
       "      <td>saving_acct</td>\n",
       "      <td>XXCOWKORAVGNTTYVNKRA</td>\n",
       "      <td>ATM</td>\n",
       "      <td>ZSVLQTMHBYLEQFGUWSGY</td>\n",
       "      <td>{\"action\": {\"txn_amt\": 78.33859332672111, \"txn...</td>\n",
       "      <td>3696969600</td>\n",
       "      <td>atm</td>\n",
       "    </tr>\n",
       "    <tr>\n",
       "      <th>4</th>\n",
       "      <td>customer_id</td>\n",
       "      <td>1</td>\n",
       "      <td>inquire</td>\n",
       "      <td>3698104533</td>\n",
       "      <td>saving_acct</td>\n",
       "      <td>QSBDRHXBQCBRYBMKOUQW</td>\n",
       "      <td>ATM</td>\n",
       "      <td>TEELMNVAIONOTCYVHUWK</td>\n",
       "      <td>{\"action\": {\"txn_amt\": 0.0, \"txn_fee_amt\": 0.0...</td>\n",
       "      <td>3696969600</td>\n",
       "      <td>atm</td>\n",
       "    </tr>\n",
       "    <tr>\n",
       "      <th>5</th>\n",
       "      <td>customer_id</td>\n",
       "      <td>1</td>\n",
       "      <td>withdraw</td>\n",
       "      <td>3698391544</td>\n",
       "      <td>saving_acct</td>\n",
       "      <td>ZJHXAANRDYULPPSJTSEL</td>\n",
       "      <td>ATM</td>\n",
       "      <td>CBCDXFQWBNYHXQTWRRLL</td>\n",
       "      <td>{\"action\": {\"txn_amt\": 1209.619220718413, \"txn...</td>\n",
       "      <td>3696969600</td>\n",
       "      <td>atm</td>\n",
       "    </tr>\n",
       "    <tr>\n",
       "      <th>6</th>\n",
       "      <td>customer_id</td>\n",
       "      <td>1</td>\n",
       "      <td>inquire</td>\n",
       "      <td>3699105123</td>\n",
       "      <td>saving_acct</td>\n",
       "      <td>SACWEDMGXWNDUPGTHZDF</td>\n",
       "      <td>ATM</td>\n",
       "      <td>GRWOISCSRQZAIVZXZSXS</td>\n",
       "      <td>{\"action\": {\"txn_amt\": 0.0, \"txn_fee_amt\": 0.0...</td>\n",
       "      <td>3696969600</td>\n",
       "      <td>atm</td>\n",
       "    </tr>\n",
       "    <tr>\n",
       "      <th>7</th>\n",
       "      <td>customer_id</td>\n",
       "      <td>1</td>\n",
       "      <td>withdraw</td>\n",
       "      <td>3699317109</td>\n",
       "      <td>saving_acct</td>\n",
       "      <td>GFRBJVOSFIUAZTZDFZPU</td>\n",
       "      <td>ATM</td>\n",
       "      <td>FQZMDVZNRNBKVOXZKMXY</td>\n",
       "      <td>{\"action\": {\"txn_amt\": 544.1424059361929, \"txn...</td>\n",
       "      <td>3696969600</td>\n",
       "      <td>atm</td>\n",
       "    </tr>\n",
       "  </tbody>\n",
       "</table>\n",
       "</div>"
      ],
      "text/plain": [
       "    actor_type  actor_id action_type  action_time  object_type  \\\n",
       "0  customer_id         1     inquire   3697441132  saving_acct   \n",
       "1  customer_id         1    withdraw   3697581404  saving_acct   \n",
       "2  customer_id         1    transfer   3697935222  saving_acct   \n",
       "3  customer_id         1    transfer   3697970913  saving_acct   \n",
       "4  customer_id         1     inquire   3698104533  saving_acct   \n",
       "5  customer_id         1    withdraw   3698391544  saving_acct   \n",
       "6  customer_id         1     inquire   3699105123  saving_acct   \n",
       "7  customer_id         1    withdraw   3699317109  saving_acct   \n",
       "\n",
       "              object_id channel_type            channel_id  \\\n",
       "0  NAHPXDFRQHWJMUOPGVKY          ATM  BFWIMSCOXPEYPLIDHYXA   \n",
       "1  NRMKUUHUWSLOTVHDLYYA          ATM  VJLWIOOEDTKTUXNCOKEZ   \n",
       "2  UTMFOCJZSZLVQIPWPORO          ATM  OHKONNHJHIYHGHJCTJHQ   \n",
       "3  XXCOWKORAVGNTTYVNKRA          ATM  ZSVLQTMHBYLEQFGUWSGY   \n",
       "4  QSBDRHXBQCBRYBMKOUQW          ATM  TEELMNVAIONOTCYVHUWK   \n",
       "5  ZJHXAANRDYULPPSJTSEL          ATM  CBCDXFQWBNYHXQTWRRLL   \n",
       "6  SACWEDMGXWNDUPGTHZDF          ATM  GRWOISCSRQZAIVZXZSXS   \n",
       "7  GFRBJVOSFIUAZTZDFZPU          ATM  FQZMDVZNRNBKVOXZKMXY   \n",
       "\n",
       "                                               attrs  partition_time theme  \n",
       "0  {\"action\": {\"txn_amt\": 0.0, \"txn_fee_amt\": 0.0...      3696969600   atm  \n",
       "1  {\"action\": {\"txn_amt\": 104.17926497357601, \"tx...      3696969600   atm  \n",
       "2  {\"action\": {\"txn_amt\": 1265.7452899489804, \"tx...      3696969600   atm  \n",
       "3  {\"action\": {\"txn_amt\": 78.33859332672111, \"txn...      3696969600   atm  \n",
       "4  {\"action\": {\"txn_amt\": 0.0, \"txn_fee_amt\": 0.0...      3696969600   atm  \n",
       "5  {\"action\": {\"txn_amt\": 1209.619220718413, \"txn...      3696969600   atm  \n",
       "6  {\"action\": {\"txn_amt\": 0.0, \"txn_fee_amt\": 0.0...      3696969600   atm  \n",
       "7  {\"action\": {\"txn_amt\": 544.1424059361929, \"txn...      3696969600   atm  "
      ]
     },
     "execution_count": 49,
     "metadata": {},
     "output_type": "execute_result"
    }
   ],
   "source": [
    "data=pd.read_csv(\"atm_1.csv\")\n",
    "data"
   ]
  },
  {
   "cell_type": "markdown",
   "metadata": {},
   "source": [
    "## attrs 裡面的資料"
   ]
  },
  {
   "cell_type": "code",
   "execution_count": 50,
   "metadata": {
    "collapsed": false
   },
   "outputs": [
    {
     "data": {
      "text/plain": [
       "{u'action': {u'trans_type': u'trans_out',\n",
       "  u'txn_amt': 0.0,\n",
       "  u'txn_fee_amt': 0.0},\n",
       " u'channel': {u'address_zipcode': 230881, u'machine_bank_code': u'Cathay'},\n",
       " u'object': {u'target_acct_nbr': u'SMEVXWRXAROHMNMDMSEM',\n",
       "  u'target_bank_code': u'Cathay'}}"
      ]
     },
     "execution_count": 50,
     "metadata": {},
     "output_type": "execute_result"
    }
   ],
   "source": [
    "data['attrs'].apply(lambda x:json.loads(x))[0]"
   ]
  },
  {
   "cell_type": "code",
   "execution_count": 51,
   "metadata": {
    "collapsed": false
   },
   "outputs": [
    {
     "data": {
      "text/plain": [
       "{u'action': {u'trans_type': u'trans_out',\n",
       "  u'txn_amt': 104.17926497357601,\n",
       "  u'txn_fee_amt': 15.0},\n",
       " u'channel': {u'address_zipcode': 87321, u'machine_bank_code': u'Cathay'},\n",
       " u'object': {u'target_acct_nbr': u'OKKZADUAAGWJNVQHSWVA',\n",
       "  u'target_bank_code': u'A_bank'}}"
      ]
     },
     "execution_count": 51,
     "metadata": {},
     "output_type": "execute_result"
    }
   ],
   "source": [
    "data['attrs'].apply(lambda x:json.loads(x))[1]"
   ]
  },
  {
   "cell_type": "code",
   "execution_count": 52,
   "metadata": {
    "collapsed": false
   },
   "outputs": [
    {
     "data": {
      "text/plain": [
       "{u'action': {u'trans_type': u'trans_in',\n",
       "  u'txn_amt': 1265.7452899489804,\n",
       "  u'txn_fee_amt': 15.0},\n",
       " u'channel': {u'address_zipcode': 14043, u'machine_bank_code': u'Cathay'},\n",
       " u'object': {u'target_acct_nbr': u'WTTIHYHIUMDHHOEKZYVR',\n",
       "  u'target_bank_code': u'C_bank'}}"
      ]
     },
     "execution_count": 52,
     "metadata": {},
     "output_type": "execute_result"
    }
   ],
   "source": [
    "data['attrs'].apply(lambda x:json.loads(x))[2]"
   ]
  },
  {
   "cell_type": "markdown",
   "metadata": {},
   "source": [
    "# cti 客服中心進線"
   ]
  },
  {
   "cell_type": "code",
   "execution_count": 53,
   "metadata": {
    "collapsed": false
   },
   "outputs": [
    {
     "data": {
      "text/html": [
       "<div>\n",
       "<table border=\"1\" class=\"dataframe\">\n",
       "  <thead>\n",
       "    <tr style=\"text-align: right;\">\n",
       "      <th></th>\n",
       "      <th>actor_type</th>\n",
       "      <th>actor_id</th>\n",
       "      <th>action_type</th>\n",
       "      <th>action_time</th>\n",
       "      <th>object_type</th>\n",
       "      <th>object_id</th>\n",
       "      <th>channel_type</th>\n",
       "      <th>channel_id</th>\n",
       "      <th>attrs</th>\n",
       "      <th>partition_time</th>\n",
       "      <th>theme</th>\n",
       "    </tr>\n",
       "  </thead>\n",
       "  <tbody>\n",
       "    <tr>\n",
       "      <th>0</th>\n",
       "      <td>customer_id</td>\n",
       "      <td>1</td>\n",
       "      <td>inbound</td>\n",
       "      <td>3697251672</td>\n",
       "      <td>call_purpose</td>\n",
       "      <td>2_8_202</td>\n",
       "      <td>customer_service</td>\n",
       "      <td>personal_phone_service</td>\n",
       "      <td>{\"action\": {\"call_nbr\": \"HIBWVYBHSIYZFGUDDSAC\"...</td>\n",
       "      <td>3696969600</td>\n",
       "      <td>cti</td>\n",
       "    </tr>\n",
       "    <tr>\n",
       "      <th>1</th>\n",
       "      <td>customer_id</td>\n",
       "      <td>1</td>\n",
       "      <td>inbound</td>\n",
       "      <td>3698252247</td>\n",
       "      <td>call_purpose</td>\n",
       "      <td>1_1_247</td>\n",
       "      <td>customer_service</td>\n",
       "      <td>personal_phone_service</td>\n",
       "      <td>{\"action\": {\"call_nbr\": \"COWKORAVGNTTYVNKRAZS\"...</td>\n",
       "      <td>3696969600</td>\n",
       "      <td>cti</td>\n",
       "    </tr>\n",
       "    <tr>\n",
       "      <th>2</th>\n",
       "      <td>customer_id</td>\n",
       "      <td>1</td>\n",
       "      <td>inbound</td>\n",
       "      <td>3698272965</td>\n",
       "      <td>call_purpose</td>\n",
       "      <td>0_19_259</td>\n",
       "      <td>customer_service</td>\n",
       "      <td>personal_phone_service</td>\n",
       "      <td>{\"action\": {\"call_nbr\": \"ENAADXBGWETKLVGFRBJV\"...</td>\n",
       "      <td>3696969600</td>\n",
       "      <td>cti</td>\n",
       "    </tr>\n",
       "    <tr>\n",
       "      <th>3</th>\n",
       "      <td>customer_id</td>\n",
       "      <td>1</td>\n",
       "      <td>inbound</td>\n",
       "      <td>3698682470</td>\n",
       "      <td>call_purpose</td>\n",
       "      <td>2_4_155</td>\n",
       "      <td>customer_service</td>\n",
       "      <td>personal_phone_service</td>\n",
       "      <td>{\"action\": {\"call_nbr\": \"XWNDUPGTHZDFGRWOISCS\"...</td>\n",
       "      <td>3696969600</td>\n",
       "      <td>cti</td>\n",
       "    </tr>\n",
       "    <tr>\n",
       "      <th>4</th>\n",
       "      <td>customer_id</td>\n",
       "      <td>1</td>\n",
       "      <td>inbound</td>\n",
       "      <td>3698785016</td>\n",
       "      <td>call_purpose</td>\n",
       "      <td>1_14_12</td>\n",
       "      <td>customer_service</td>\n",
       "      <td>personal_phone_service</td>\n",
       "      <td>{\"action\": {\"call_nbr\": \"KGDHAFOUVUCMTJTENHRD\"...</td>\n",
       "      <td>3696969600</td>\n",
       "      <td>cti</td>\n",
       "    </tr>\n",
       "    <tr>\n",
       "      <th>5</th>\n",
       "      <td>customer_id</td>\n",
       "      <td>1</td>\n",
       "      <td>inbound</td>\n",
       "      <td>3699005211</td>\n",
       "      <td>call_purpose</td>\n",
       "      <td>0_29_49</td>\n",
       "      <td>customer_service</td>\n",
       "      <td>personal_phone_service</td>\n",
       "      <td>{\"action\": {\"call_nbr\": \"QZAIVZXZSXSHWVZYVACH\"...</td>\n",
       "      <td>3696969600</td>\n",
       "      <td>cti</td>\n",
       "    </tr>\n",
       "    <tr>\n",
       "      <th>6</th>\n",
       "      <td>customer_id</td>\n",
       "      <td>1</td>\n",
       "      <td>inbound</td>\n",
       "      <td>3699141440</td>\n",
       "      <td>call_purpose</td>\n",
       "      <td>2_18_20</td>\n",
       "      <td>customer_service</td>\n",
       "      <td>personal_phone_service</td>\n",
       "      <td>{\"action\": {\"call_nbr\": \"ZTZDFZPUFQZMDVZNRNBK\"...</td>\n",
       "      <td>3696969600</td>\n",
       "      <td>cti</td>\n",
       "    </tr>\n",
       "    <tr>\n",
       "      <th>7</th>\n",
       "      <td>customer_id</td>\n",
       "      <td>1</td>\n",
       "      <td>inbound</td>\n",
       "      <td>3699193011</td>\n",
       "      <td>call_purpose</td>\n",
       "      <td>1_11_176</td>\n",
       "      <td>customer_service</td>\n",
       "      <td>personal_phone_service</td>\n",
       "      <td>{\"action\": {\"call_nbr\": \"MHBYLEQFGUWSGYRVIIXV\"...</td>\n",
       "      <td>3696969600</td>\n",
       "      <td>cti</td>\n",
       "    </tr>\n",
       "  </tbody>\n",
       "</table>\n",
       "</div>"
      ],
      "text/plain": [
       "    actor_type  actor_id action_type  action_time   object_type object_id  \\\n",
       "0  customer_id         1     inbound   3697251672  call_purpose   2_8_202   \n",
       "1  customer_id         1     inbound   3698252247  call_purpose   1_1_247   \n",
       "2  customer_id         1     inbound   3698272965  call_purpose  0_19_259   \n",
       "3  customer_id         1     inbound   3698682470  call_purpose   2_4_155   \n",
       "4  customer_id         1     inbound   3698785016  call_purpose   1_14_12   \n",
       "5  customer_id         1     inbound   3699005211  call_purpose   0_29_49   \n",
       "6  customer_id         1     inbound   3699141440  call_purpose   2_18_20   \n",
       "7  customer_id         1     inbound   3699193011  call_purpose  1_11_176   \n",
       "\n",
       "       channel_type              channel_id  \\\n",
       "0  customer_service  personal_phone_service   \n",
       "1  customer_service  personal_phone_service   \n",
       "2  customer_service  personal_phone_service   \n",
       "3  customer_service  personal_phone_service   \n",
       "4  customer_service  personal_phone_service   \n",
       "5  customer_service  personal_phone_service   \n",
       "6  customer_service  personal_phone_service   \n",
       "7  customer_service  personal_phone_service   \n",
       "\n",
       "                                               attrs  partition_time theme  \n",
       "0  {\"action\": {\"call_nbr\": \"HIBWVYBHSIYZFGUDDSAC\"...      3696969600   cti  \n",
       "1  {\"action\": {\"call_nbr\": \"COWKORAVGNTTYVNKRAZS\"...      3696969600   cti  \n",
       "2  {\"action\": {\"call_nbr\": \"ENAADXBGWETKLVGFRBJV\"...      3696969600   cti  \n",
       "3  {\"action\": {\"call_nbr\": \"XWNDUPGTHZDFGRWOISCS\"...      3696969600   cti  \n",
       "4  {\"action\": {\"call_nbr\": \"KGDHAFOUVUCMTJTENHRD\"...      3696969600   cti  \n",
       "5  {\"action\": {\"call_nbr\": \"QZAIVZXZSXSHWVZYVACH\"...      3696969600   cti  \n",
       "6  {\"action\": {\"call_nbr\": \"ZTZDFZPUFQZMDVZNRNBK\"...      3696969600   cti  \n",
       "7  {\"action\": {\"call_nbr\": \"MHBYLEQFGUWSGYRVIIXV\"...      3696969600   cti  "
      ]
     },
     "execution_count": 53,
     "metadata": {},
     "output_type": "execute_result"
    }
   ],
   "source": [
    "data=pd.read_csv(\"cti_1.csv\")\n",
    "data"
   ]
  },
  {
   "cell_type": "markdown",
   "metadata": {},
   "source": [
    "## attrs 裡面的資料"
   ]
  },
  {
   "cell_type": "code",
   "execution_count": 54,
   "metadata": {
    "collapsed": false
   },
   "outputs": [
    {
     "data": {
      "text/plain": [
       "{u'action': {u'call_nbr': u'HIBWVYBHSIYZFGUDDSAC'},\n",
       " u'object': {u'business_desc': u'2',\n",
       "  u'detail_desc': u'202',\n",
       "  u'type_desc': u'8'}}"
      ]
     },
     "execution_count": 54,
     "metadata": {},
     "output_type": "execute_result"
    }
   ],
   "source": [
    "data['attrs'].apply(lambda x:json.loads(x))[0]"
   ]
  },
  {
   "cell_type": "code",
   "execution_count": 55,
   "metadata": {
    "collapsed": false
   },
   "outputs": [
    {
     "data": {
      "text/plain": [
       "{u'action': {u'call_nbr': u'COWKORAVGNTTYVNKRAZS'},\n",
       " u'object': {u'business_desc': u'1',\n",
       "  u'detail_desc': u'247',\n",
       "  u'type_desc': u'1'}}"
      ]
     },
     "execution_count": 55,
     "metadata": {},
     "output_type": "execute_result"
    }
   ],
   "source": [
    "data['attrs'].apply(lambda x:json.loads(x))[1]"
   ]
  },
  {
   "cell_type": "code",
   "execution_count": 56,
   "metadata": {
    "collapsed": false
   },
   "outputs": [
    {
     "data": {
      "text/plain": [
       "{u'action': {u'call_nbr': u'ENAADXBGWETKLVGFRBJV'},\n",
       " u'object': {u'business_desc': u'0',\n",
       "  u'detail_desc': u'259',\n",
       "  u'type_desc': u'19'}}"
      ]
     },
     "execution_count": 56,
     "metadata": {},
     "output_type": "execute_result"
    }
   ],
   "source": [
    "data['attrs'].apply(lambda x:json.loads(x))[2]"
   ]
  },
  {
   "cell_type": "markdown",
   "metadata": {},
   "source": [
    "# MyBank 交易"
   ]
  },
  {
   "cell_type": "code",
   "execution_count": 57,
   "metadata": {
    "collapsed": false
   },
   "outputs": [
    {
     "data": {
      "text/html": [
       "<div>\n",
       "<table border=\"1\" class=\"dataframe\">\n",
       "  <thead>\n",
       "    <tr style=\"text-align: right;\">\n",
       "      <th></th>\n",
       "      <th>actor_type</th>\n",
       "      <th>actor_id</th>\n",
       "      <th>action_type</th>\n",
       "      <th>action_time</th>\n",
       "      <th>object_type</th>\n",
       "      <th>object_id</th>\n",
       "      <th>channel_type</th>\n",
       "      <th>channel_id</th>\n",
       "      <th>attrs</th>\n",
       "      <th>partition_time</th>\n",
       "      <th>theme</th>\n",
       "    </tr>\n",
       "  </thead>\n",
       "  <tbody>\n",
       "    <tr>\n",
       "      <th>0</th>\n",
       "      <td>customer_id</td>\n",
       "      <td>1</td>\n",
       "      <td>fund</td>\n",
       "      <td>3697321967</td>\n",
       "      <td>fixed_quota_purchase</td>\n",
       "      <td>SDLVBDHYUISVGAZYIEIN</td>\n",
       "      <td>digital</td>\n",
       "      <td>MMB</td>\n",
       "      <td>{\"action\": {\"amt\": 91.474572845663, \"currency_...</td>\n",
       "      <td>3696969600</td>\n",
       "      <td>mybank</td>\n",
       "    </tr>\n",
       "    <tr>\n",
       "      <th>1</th>\n",
       "      <td>customer_id</td>\n",
       "      <td>1</td>\n",
       "      <td>fund</td>\n",
       "      <td>3698028058</td>\n",
       "      <td>general_purchase</td>\n",
       "      <td>UOHNJGTLKWKMTWFRJCNY</td>\n",
       "      <td>digital</td>\n",
       "      <td>MyBank</td>\n",
       "      <td>{\"action\": {\"amt\": 265.9391093833861, \"currenc...</td>\n",
       "      <td>3696969600</td>\n",
       "      <td>mybank</td>\n",
       "    </tr>\n",
       "    <tr>\n",
       "      <th>2</th>\n",
       "      <td>customer_id</td>\n",
       "      <td>1</td>\n",
       "      <td>TWD_demand_deposit</td>\n",
       "      <td>3698372432</td>\n",
       "      <td>other_payment</td>\n",
       "      <td>YOJMXCCREMKJEOKLWUIZ</td>\n",
       "      <td>digital</td>\n",
       "      <td>MMB</td>\n",
       "      <td>{\"action\": {\"amt\": 1180.8381120081665, \"curren...</td>\n",
       "      <td>3696969600</td>\n",
       "      <td>mybank</td>\n",
       "    </tr>\n",
       "    <tr>\n",
       "      <th>3</th>\n",
       "      <td>customer_id</td>\n",
       "      <td>1</td>\n",
       "      <td>fund</td>\n",
       "      <td>3698843013</td>\n",
       "      <td>fixed_quota_purchase</td>\n",
       "      <td>HVJOKMKXLVKBRNAJAIIJ</td>\n",
       "      <td>digital</td>\n",
       "      <td>MMB</td>\n",
       "      <td>{\"action\": {\"amt\": 100.14596102428943, \"curren...</td>\n",
       "      <td>3696969600</td>\n",
       "      <td>mybank</td>\n",
       "    </tr>\n",
       "    <tr>\n",
       "      <th>4</th>\n",
       "      <td>customer_id</td>\n",
       "      <td>1</td>\n",
       "      <td>TWD_demand_deposit</td>\n",
       "      <td>3698973458</td>\n",
       "      <td>other_payment</td>\n",
       "      <td>CIVHDCIULWPPNTKNMRVJ</td>\n",
       "      <td>digital</td>\n",
       "      <td>MyBank</td>\n",
       "      <td>{\"action\": {\"amt\": 307.9567944107193, \"currenc...</td>\n",
       "      <td>3696969600</td>\n",
       "      <td>mybank</td>\n",
       "    </tr>\n",
       "    <tr>\n",
       "      <th>5</th>\n",
       "      <td>customer_id</td>\n",
       "      <td>1</td>\n",
       "      <td>TWD_demand_deposit</td>\n",
       "      <td>3699293231</td>\n",
       "      <td>credit_card_payment</td>\n",
       "      <td>FJSDRFJFKURQPODNITVR</td>\n",
       "      <td>digital</td>\n",
       "      <td>MMB</td>\n",
       "      <td>{\"action\": {\"amt\": 3350.2992616903757, \"curren...</td>\n",
       "      <td>3696969600</td>\n",
       "      <td>mybank</td>\n",
       "    </tr>\n",
       "  </tbody>\n",
       "</table>\n",
       "</div>"
      ],
      "text/plain": [
       "    actor_type  actor_id         action_type  action_time  \\\n",
       "0  customer_id         1                fund   3697321967   \n",
       "1  customer_id         1                fund   3698028058   \n",
       "2  customer_id         1  TWD_demand_deposit   3698372432   \n",
       "3  customer_id         1                fund   3698843013   \n",
       "4  customer_id         1  TWD_demand_deposit   3698973458   \n",
       "5  customer_id         1  TWD_demand_deposit   3699293231   \n",
       "\n",
       "            object_type             object_id channel_type channel_id  \\\n",
       "0  fixed_quota_purchase  SDLVBDHYUISVGAZYIEIN      digital        MMB   \n",
       "1      general_purchase  UOHNJGTLKWKMTWFRJCNY      digital     MyBank   \n",
       "2         other_payment  YOJMXCCREMKJEOKLWUIZ      digital        MMB   \n",
       "3  fixed_quota_purchase  HVJOKMKXLVKBRNAJAIIJ      digital        MMB   \n",
       "4         other_payment  CIVHDCIULWPPNTKNMRVJ      digital     MyBank   \n",
       "5   credit_card_payment  FJSDRFJFKURQPODNITVR      digital        MMB   \n",
       "\n",
       "                                               attrs  partition_time   theme  \n",
       "0  {\"action\": {\"amt\": 91.474572845663, \"currency_...      3696969600  mybank  \n",
       "1  {\"action\": {\"amt\": 265.9391093833861, \"currenc...      3696969600  mybank  \n",
       "2  {\"action\": {\"amt\": 1180.8381120081665, \"curren...      3696969600  mybank  \n",
       "3  {\"action\": {\"amt\": 100.14596102428943, \"curren...      3696969600  mybank  \n",
       "4  {\"action\": {\"amt\": 307.9567944107193, \"currenc...      3696969600  mybank  \n",
       "5  {\"action\": {\"amt\": 3350.2992616903757, \"curren...      3696969600  mybank  "
      ]
     },
     "execution_count": 57,
     "metadata": {},
     "output_type": "execute_result"
    }
   ],
   "source": [
    "data=pd.read_csv(\"mybank_1.csv\")\n",
    "data"
   ]
  },
  {
   "cell_type": "markdown",
   "metadata": {},
   "source": [
    "## attrs 裡面的資料"
   ]
  },
  {
   "cell_type": "code",
   "execution_count": 58,
   "metadata": {
    "collapsed": false
   },
   "outputs": [
    {
     "data": {
      "text/plain": [
       "{u'action': {u'amt': 91.474572845663, u'currency_code': u'TWD'}}"
      ]
     },
     "execution_count": 58,
     "metadata": {},
     "output_type": "execute_result"
    }
   ],
   "source": [
    "data['attrs'].apply(lambda x:json.loads(x))[0]"
   ]
  },
  {
   "cell_type": "code",
   "execution_count": 59,
   "metadata": {
    "collapsed": false
   },
   "outputs": [
    {
     "data": {
      "text/plain": [
       "{u'action': {u'amt': 265.9391093833861, u'currency_code': u'TWD'}}"
      ]
     },
     "execution_count": 59,
     "metadata": {},
     "output_type": "execute_result"
    }
   ],
   "source": [
    "data['attrs'].apply(lambda x:json.loads(x))[1]"
   ]
  },
  {
   "cell_type": "code",
   "execution_count": 60,
   "metadata": {
    "collapsed": false
   },
   "outputs": [
    {
     "data": {
      "text/plain": [
       "{u'action': {u'amt': 1180.8381120081665, u'currency_code': u'USD'}}"
      ]
     },
     "execution_count": 60,
     "metadata": {},
     "output_type": "execute_result"
    }
   ],
   "source": [
    "data['attrs'].apply(lambda x:json.loads(x))[2]"
   ]
  },
  {
   "cell_type": "code",
   "execution_count": null,
   "metadata": {
    "collapsed": true
   },
   "outputs": [],
   "source": []
  },
  {
   "cell_type": "code",
   "execution_count": 1,
   "metadata": {
    "collapsed": false
   },
   "outputs": [
    {
     "name": "stdout",
     "output_type": "stream",
     "text": [
      "Untitled.ipynb\n",
      "atm_1.csv\n",
      "cctxn_1.csv\n",
      "cti_1.csv\n",
      "hackntu_dataset.ipynb\n",
      "hackntu_x_cathay_2017-master\n",
      "hackntu_x_cathay_2017-master.zip\n",
      "mybank_1.csv\n",
      "profile_1.csv\n"
     ]
    }
   ],
   "source": [
    "!ls"
   ]
  },
  {
   "cell_type": "code",
   "execution_count": 8,
   "metadata": {
    "collapsed": false
   },
   "outputs": [
    {
     "data": {
      "text/plain": [
       "['hackntu_x_cathay_2017-master/dataset/profile\\\\partition_time=3696969600',\n",
       " 'hackntu_x_cathay_2017-master/dataset/profile\\\\partition_time=3699475200',\n",
       " 'hackntu_x_cathay_2017-master/dataset/profile\\\\_SUCCESS']"
      ]
     },
     "execution_count": 8,
     "metadata": {},
     "output_type": "execute_result"
    }
   ],
   "source": [
    "import glob\n",
    "\n",
    "glob.glob('hackntu_x_cathay_2017-master/dataset/profile/*')\n"
   ]
  },
  {
   "cell_type": "code",
   "execution_count": 31,
   "metadata": {
    "collapsed": false
   },
   "outputs": [
    {
     "data": {
      "text/html": [
       "<div>\n",
       "<table border=\"1\" class=\"dataframe\">\n",
       "  <thead>\n",
       "    <tr style=\"text-align: right;\">\n",
       "      <th></th>\n",
       "      <th>0</th>\n",
       "      <th>1</th>\n",
       "      <th>2</th>\n",
       "      <th>3</th>\n",
       "      <th>4</th>\n",
       "      <th>5</th>\n",
       "      <th>6</th>\n",
       "      <th>7</th>\n",
       "      <th>8</th>\n",
       "      <th>9</th>\n",
       "      <th>10</th>\n",
       "    </tr>\n",
       "  </thead>\n",
       "  <tbody>\n",
       "    <tr>\n",
       "      <th>0</th>\n",
       "      <td>actor_type</td>\n",
       "      <td>actor_id</td>\n",
       "      <td>action_type</td>\n",
       "      <td>action_time</td>\n",
       "      <td>object_type</td>\n",
       "      <td>object_id</td>\n",
       "      <td>channel_type</td>\n",
       "      <td>channel_id</td>\n",
       "      <td>attrs</td>\n",
       "      <td>partition_time</td>\n",
       "      <td>theme</td>\n",
       "    </tr>\n",
       "    <tr>\n",
       "      <th>1</th>\n",
       "      <td>customer_id</td>\n",
       "      <td>1</td>\n",
       "      <td>fund</td>\n",
       "      <td>3697321967</td>\n",
       "      <td>fixed_quota_purchase</td>\n",
       "      <td>SDLVBDHYUISVGAZYIEIN</td>\n",
       "      <td>digital</td>\n",
       "      <td>MMB</td>\n",
       "      <td>{\"action\": {\"amt\": 91.474572845663, \"currency_...</td>\n",
       "      <td>3696969600</td>\n",
       "      <td>mybank</td>\n",
       "    </tr>\n",
       "    <tr>\n",
       "      <th>2</th>\n",
       "      <td>customer_id</td>\n",
       "      <td>1</td>\n",
       "      <td>fund</td>\n",
       "      <td>3698028058</td>\n",
       "      <td>general_purchase</td>\n",
       "      <td>UOHNJGTLKWKMTWFRJCNY</td>\n",
       "      <td>digital</td>\n",
       "      <td>MyBank</td>\n",
       "      <td>{\"action\": {\"amt\": 265.9391093833861, \"currenc...</td>\n",
       "      <td>3696969600</td>\n",
       "      <td>mybank</td>\n",
       "    </tr>\n",
       "    <tr>\n",
       "      <th>3</th>\n",
       "      <td>customer_id</td>\n",
       "      <td>1</td>\n",
       "      <td>TWD_demand_deposit</td>\n",
       "      <td>3698372432</td>\n",
       "      <td>other_payment</td>\n",
       "      <td>YOJMXCCREMKJEOKLWUIZ</td>\n",
       "      <td>digital</td>\n",
       "      <td>MMB</td>\n",
       "      <td>{\"action\": {\"amt\": 1180.8381120081665, \"curren...</td>\n",
       "      <td>3696969600</td>\n",
       "      <td>mybank</td>\n",
       "    </tr>\n",
       "    <tr>\n",
       "      <th>4</th>\n",
       "      <td>customer_id</td>\n",
       "      <td>1</td>\n",
       "      <td>fund</td>\n",
       "      <td>3698843013</td>\n",
       "      <td>fixed_quota_purchase</td>\n",
       "      <td>HVJOKMKXLVKBRNAJAIIJ</td>\n",
       "      <td>digital</td>\n",
       "      <td>MMB</td>\n",
       "      <td>{\"action\": {\"amt\": 100.14596102428943, \"curren...</td>\n",
       "      <td>3696969600</td>\n",
       "      <td>mybank</td>\n",
       "    </tr>\n",
       "    <tr>\n",
       "      <th>5</th>\n",
       "      <td>customer_id</td>\n",
       "      <td>1</td>\n",
       "      <td>TWD_demand_deposit</td>\n",
       "      <td>3698973458</td>\n",
       "      <td>other_payment</td>\n",
       "      <td>CIVHDCIULWPPNTKNMRVJ</td>\n",
       "      <td>digital</td>\n",
       "      <td>MyBank</td>\n",
       "      <td>{\"action\": {\"amt\": 307.9567944107193, \"currenc...</td>\n",
       "      <td>3696969600</td>\n",
       "      <td>mybank</td>\n",
       "    </tr>\n",
       "    <tr>\n",
       "      <th>6</th>\n",
       "      <td>customer_id</td>\n",
       "      <td>1</td>\n",
       "      <td>TWD_demand_deposit</td>\n",
       "      <td>3699293231</td>\n",
       "      <td>credit_card_payment</td>\n",
       "      <td>FJSDRFJFKURQPODNITVR</td>\n",
       "      <td>digital</td>\n",
       "      <td>MMB</td>\n",
       "      <td>{\"action\": {\"amt\": 3350.2992616903757, \"curren...</td>\n",
       "      <td>3696969600</td>\n",
       "      <td>mybank</td>\n",
       "    </tr>\n",
       "  </tbody>\n",
       "</table>\n",
       "</div>"
      ],
      "text/plain": [
       "            0         1                   2            3   \\\n",
       "0   actor_type  actor_id         action_type  action_time   \n",
       "1  customer_id         1                fund   3697321967   \n",
       "2  customer_id         1                fund   3698028058   \n",
       "3  customer_id         1  TWD_demand_deposit   3698372432   \n",
       "4  customer_id         1                fund   3698843013   \n",
       "5  customer_id         1  TWD_demand_deposit   3698973458   \n",
       "6  customer_id         1  TWD_demand_deposit   3699293231   \n",
       "\n",
       "                     4                     5             6           7   \\\n",
       "0           object_type             object_id  channel_type  channel_id   \n",
       "1  fixed_quota_purchase  SDLVBDHYUISVGAZYIEIN       digital         MMB   \n",
       "2      general_purchase  UOHNJGTLKWKMTWFRJCNY       digital      MyBank   \n",
       "3         other_payment  YOJMXCCREMKJEOKLWUIZ       digital         MMB   \n",
       "4  fixed_quota_purchase  HVJOKMKXLVKBRNAJAIIJ       digital         MMB   \n",
       "5         other_payment  CIVHDCIULWPPNTKNMRVJ       digital      MyBank   \n",
       "6   credit_card_payment  FJSDRFJFKURQPODNITVR       digital         MMB   \n",
       "\n",
       "                                                  8               9       10  \n",
       "0                                              attrs  partition_time   theme  \n",
       "1  {\"action\": {\"amt\": 91.474572845663, \"currency_...      3696969600  mybank  \n",
       "2  {\"action\": {\"amt\": 265.9391093833861, \"currenc...      3696969600  mybank  \n",
       "3  {\"action\": {\"amt\": 1180.8381120081665, \"curren...      3696969600  mybank  \n",
       "4  {\"action\": {\"amt\": 100.14596102428943, \"curren...      3696969600  mybank  \n",
       "5  {\"action\": {\"amt\": 307.9567944107193, \"currenc...      3696969600  mybank  \n",
       "6  {\"action\": {\"amt\": 3350.2992616903757, \"curren...      3696969600  mybank  "
      ]
     },
     "execution_count": 31,
     "metadata": {},
     "output_type": "execute_result"
    }
   ],
   "source": [
    "pd.read_csv(\"mybank_1.csv\",header=None)"
   ]
  },
  {
   "cell_type": "code",
   "execution_count": null,
   "metadata": {
    "collapsed": true
   },
   "outputs": [],
   "source": []
  },
  {
   "cell_type": "code",
   "execution_count": 47,
   "metadata": {
    "collapsed": false
   },
   "outputs": [],
   "source": [
    "path =r'hackntu_x_cathay_2017-master/dataset/profile/partition_time=*/*'\n",
    "allFiles = glob.glob(path)\n",
    "frame = pd.DataFrame()\n",
    "list_ = []\n",
    "for file_ in allFiles:\n",
    "    df = pd.read_csv(file_, names=[u'customer_id', u'birth_time', u'gender', u'contact_loc',\n",
    "       u'contact_code', u'register_loc', u'register_code', u'start_time',\n",
    "       u'aum', u'net_profit', u'credit_card_flag', u'loan_flag',\n",
    "       u'deposit_flag', u'wealth_flag', u'partition_time'], header=None)\n",
    "    list_.append(df)\n",
    "\n",
    "profile = pd.concat(list_)"
   ]
  },
  {
   "cell_type": "code",
   "execution_count": 48,
   "metadata": {
    "collapsed": false
   },
   "outputs": [
    {
     "data": {
      "text/html": [
       "<div>\n",
       "<table border=\"1\" class=\"dataframe\">\n",
       "  <thead>\n",
       "    <tr style=\"text-align: right;\">\n",
       "      <th></th>\n",
       "      <th>customer_id</th>\n",
       "      <th>birth_time</th>\n",
       "      <th>gender</th>\n",
       "      <th>contact_loc</th>\n",
       "      <th>contact_code</th>\n",
       "      <th>register_loc</th>\n",
       "      <th>register_code</th>\n",
       "      <th>start_time</th>\n",
       "      <th>aum</th>\n",
       "      <th>net_profit</th>\n",
       "      <th>credit_card_flag</th>\n",
       "      <th>loan_flag</th>\n",
       "      <th>deposit_flag</th>\n",
       "      <th>wealth_flag</th>\n",
       "      <th>partition_time</th>\n",
       "    </tr>\n",
       "  </thead>\n",
       "  <tbody>\n",
       "    <tr>\n",
       "      <th>0</th>\n",
       "      <td>1</td>\n",
       "      <td>1083060338</td>\n",
       "      <td>F</td>\n",
       "      <td>I</td>\n",
       "      <td>292141</td>\n",
       "      <td>F</td>\n",
       "      <td>606063</td>\n",
       "      <td>3667420800</td>\n",
       "      <td>173.028965</td>\n",
       "      <td>168.625836</td>\n",
       "      <td>Y</td>\n",
       "      <td>Y</td>\n",
       "      <td>Y</td>\n",
       "      <td>Y</td>\n",
       "      <td>3696969600</td>\n",
       "    </tr>\n",
       "    <tr>\n",
       "      <th>1</th>\n",
       "      <td>2</td>\n",
       "      <td>2186820338</td>\n",
       "      <td>F</td>\n",
       "      <td>B</td>\n",
       "      <td>653673</td>\n",
       "      <td>B</td>\n",
       "      <td>122851</td>\n",
       "      <td>3291321600</td>\n",
       "      <td>200.848099</td>\n",
       "      <td>1004.853594</td>\n",
       "      <td>Y</td>\n",
       "      <td>Y</td>\n",
       "      <td>N</td>\n",
       "      <td>Y</td>\n",
       "      <td>3696969600</td>\n",
       "    </tr>\n",
       "    <tr>\n",
       "      <th>2</th>\n",
       "      <td>3</td>\n",
       "      <td>1966068338</td>\n",
       "      <td>M</td>\n",
       "      <td>D</td>\n",
       "      <td>373933</td>\n",
       "      <td>D</td>\n",
       "      <td>639201</td>\n",
       "      <td>3373574400</td>\n",
       "      <td>1589.205135</td>\n",
       "      <td>58.944753</td>\n",
       "      <td>N</td>\n",
       "      <td>Y</td>\n",
       "      <td>N</td>\n",
       "      <td>N</td>\n",
       "      <td>3696969600</td>\n",
       "    </tr>\n",
       "    <tr>\n",
       "      <th>3</th>\n",
       "      <td>4</td>\n",
       "      <td>1650708338</td>\n",
       "      <td>M</td>\n",
       "      <td>D</td>\n",
       "      <td>39007</td>\n",
       "      <td>H</td>\n",
       "      <td>87913</td>\n",
       "      <td>3402950400</td>\n",
       "      <td>415.735619</td>\n",
       "      <td>183.664202</td>\n",
       "      <td>Y</td>\n",
       "      <td>Y</td>\n",
       "      <td>N</td>\n",
       "      <td>Y</td>\n",
       "      <td>3696969600</td>\n",
       "    </tr>\n",
       "    <tr>\n",
       "      <th>4</th>\n",
       "      <td>5</td>\n",
       "      <td>1335348338</td>\n",
       "      <td>F</td>\n",
       "      <td>G</td>\n",
       "      <td>254521</td>\n",
       "      <td>F</td>\n",
       "      <td>472657</td>\n",
       "      <td>3312921600</td>\n",
       "      <td>1225.838153</td>\n",
       "      <td>3330.326106</td>\n",
       "      <td>Y</td>\n",
       "      <td>Y</td>\n",
       "      <td>Y</td>\n",
       "      <td>Y</td>\n",
       "      <td>3696969600</td>\n",
       "    </tr>\n",
       "  </tbody>\n",
       "</table>\n",
       "</div>"
      ],
      "text/plain": [
       "   customer_id  birth_time gender contact_loc  contact_code register_loc  \\\n",
       "0            1  1083060338      F           I        292141            F   \n",
       "1            2  2186820338      F           B        653673            B   \n",
       "2            3  1966068338      M           D        373933            D   \n",
       "3            4  1650708338      M           D         39007            H   \n",
       "4            5  1335348338      F           G        254521            F   \n",
       "\n",
       "   register_code  start_time          aum   net_profit credit_card_flag  \\\n",
       "0         606063  3667420800   173.028965   168.625836                Y   \n",
       "1         122851  3291321600   200.848099  1004.853594                Y   \n",
       "2         639201  3373574400  1589.205135    58.944753                N   \n",
       "3          87913  3402950400   415.735619   183.664202                Y   \n",
       "4         472657  3312921600  1225.838153  3330.326106                Y   \n",
       "\n",
       "  loan_flag deposit_flag wealth_flag  partition_time  \n",
       "0         Y            Y           Y      3696969600  \n",
       "1         Y            N           Y      3696969600  \n",
       "2         Y            N           N      3696969600  \n",
       "3         Y            N           Y      3696969600  \n",
       "4         Y            Y           Y      3696969600  "
      ]
     },
     "execution_count": 48,
     "metadata": {},
     "output_type": "execute_result"
    }
   ],
   "source": [
    "profile.head()"
   ]
  },
  {
   "cell_type": "code",
   "execution_count": 53,
   "metadata": {
    "collapsed": false
   },
   "outputs": [
    {
     "data": {
      "text/html": [
       "<div>\n",
       "<table border=\"1\" class=\"dataframe\">\n",
       "  <thead>\n",
       "    <tr style=\"text-align: right;\">\n",
       "      <th></th>\n",
       "      <th>customer_id</th>\n",
       "      <th>birth_time</th>\n",
       "      <th>contact_code</th>\n",
       "      <th>register_code</th>\n",
       "      <th>start_time</th>\n",
       "      <th>aum</th>\n",
       "      <th>net_profit</th>\n",
       "      <th>partition_time</th>\n",
       "    </tr>\n",
       "  </thead>\n",
       "  <tbody>\n",
       "    <tr>\n",
       "      <th>count</th>\n",
       "      <td>100.00000</td>\n",
       "      <td>1.000000e+02</td>\n",
       "      <td>100.000000</td>\n",
       "      <td>100.000000</td>\n",
       "      <td>1.000000e+02</td>\n",
       "      <td>100.000000</td>\n",
       "      <td>100.000000</td>\n",
       "      <td>1.000000e+02</td>\n",
       "    </tr>\n",
       "    <tr>\n",
       "      <th>mean</th>\n",
       "      <td>25.50000</td>\n",
       "      <td>1.889751e+09</td>\n",
       "      <td>410275.520000</td>\n",
       "      <td>364988.520000</td>\n",
       "      <td>3.466014e+09</td>\n",
       "      <td>705.054304</td>\n",
       "      <td>863.791390</td>\n",
       "      <td>3.698222e+09</td>\n",
       "    </tr>\n",
       "    <tr>\n",
       "      <th>std</th>\n",
       "      <td>14.50357</td>\n",
       "      <td>5.650615e+08</td>\n",
       "      <td>304948.498127</td>\n",
       "      <td>298545.611004</td>\n",
       "      <td>1.250156e+08</td>\n",
       "      <td>655.598460</td>\n",
       "      <td>842.001763</td>\n",
       "      <td>1.259111e+06</td>\n",
       "    </tr>\n",
       "    <tr>\n",
       "      <th>min</th>\n",
       "      <td>1.00000</td>\n",
       "      <td>1.083060e+09</td>\n",
       "      <td>33673.000000</td>\n",
       "      <td>14763.000000</td>\n",
       "      <td>3.227213e+09</td>\n",
       "      <td>-19.782602</td>\n",
       "      <td>35.453131</td>\n",
       "      <td>3.696970e+09</td>\n",
       "    </tr>\n",
       "    <tr>\n",
       "      <th>25%</th>\n",
       "      <td>13.00000</td>\n",
       "      <td>1.493028e+09</td>\n",
       "      <td>135057.000000</td>\n",
       "      <td>60271.000000</td>\n",
       "      <td>3.373574e+09</td>\n",
       "      <td>191.716546</td>\n",
       "      <td>183.664202</td>\n",
       "      <td>3.696970e+09</td>\n",
       "    </tr>\n",
       "    <tr>\n",
       "      <th>50%</th>\n",
       "      <td>25.50000</td>\n",
       "      <td>1.808388e+09</td>\n",
       "      <td>318062.000000</td>\n",
       "      <td>423295.000000</td>\n",
       "      <td>3.452501e+09</td>\n",
       "      <td>355.491389</td>\n",
       "      <td>511.813930</td>\n",
       "      <td>3.698222e+09</td>\n",
       "    </tr>\n",
       "    <tr>\n",
       "      <th>75%</th>\n",
       "      <td>38.00000</td>\n",
       "      <td>2.186820e+09</td>\n",
       "      <td>696391.000000</td>\n",
       "      <td>606063.000000</td>\n",
       "      <td>3.593981e+09</td>\n",
       "      <td>1099.409501</td>\n",
       "      <td>1552.106150</td>\n",
       "      <td>3.699475e+09</td>\n",
       "    </tr>\n",
       "    <tr>\n",
       "      <th>max</th>\n",
       "      <td>50.00000</td>\n",
       "      <td>3.038292e+09</td>\n",
       "      <td>987043.000000</td>\n",
       "      <td>849163.000000</td>\n",
       "      <td>3.667421e+09</td>\n",
       "      <td>2243.774319</td>\n",
       "      <td>3330.326106</td>\n",
       "      <td>3.699475e+09</td>\n",
       "    </tr>\n",
       "  </tbody>\n",
       "</table>\n",
       "</div>"
      ],
      "text/plain": [
       "       customer_id    birth_time   contact_code  register_code    start_time  \\\n",
       "count    100.00000  1.000000e+02     100.000000     100.000000  1.000000e+02   \n",
       "mean      25.50000  1.889751e+09  410275.520000  364988.520000  3.466014e+09   \n",
       "std       14.50357  5.650615e+08  304948.498127  298545.611004  1.250156e+08   \n",
       "min        1.00000  1.083060e+09   33673.000000   14763.000000  3.227213e+09   \n",
       "25%       13.00000  1.493028e+09  135057.000000   60271.000000  3.373574e+09   \n",
       "50%       25.50000  1.808388e+09  318062.000000  423295.000000  3.452501e+09   \n",
       "75%       38.00000  2.186820e+09  696391.000000  606063.000000  3.593981e+09   \n",
       "max       50.00000  3.038292e+09  987043.000000  849163.000000  3.667421e+09   \n",
       "\n",
       "               aum   net_profit  partition_time  \n",
       "count   100.000000   100.000000    1.000000e+02  \n",
       "mean    705.054304   863.791390    3.698222e+09  \n",
       "std     655.598460   842.001763    1.259111e+06  \n",
       "min     -19.782602    35.453131    3.696970e+09  \n",
       "25%     191.716546   183.664202    3.696970e+09  \n",
       "50%     355.491389   511.813930    3.698222e+09  \n",
       "75%    1099.409501  1552.106150    3.699475e+09  \n",
       "max    2243.774319  3330.326106    3.699475e+09  "
      ]
     },
     "execution_count": 53,
     "metadata": {},
     "output_type": "execute_result"
    }
   ],
   "source": [
    "profile.describe()"
   ]
  },
  {
   "cell_type": "code",
   "execution_count": 77,
   "metadata": {
    "collapsed": false
   },
   "outputs": [
    {
     "data": {
      "text/plain": [
       "<matplotlib.axes._subplots.AxesSubplot at 0x11ed6780>"
      ]
     },
     "execution_count": 77,
     "metadata": {},
     "output_type": "execute_result"
    },
    {
     "data": {
      "image/png": "[encoded data removed]",
      "text/plain": [
       "<matplotlib.figure.Figure at 0x112d2a58>"
      ]
     },
     "metadata": {},
     "output_type": "display_data"
    }
   ],
   "source": [
    "profile['credit_card_flag'].value_counts().plot(kind='bar')"
   ]
  },
  {
   "cell_type": "code",
   "execution_count": 78,
   "metadata": {
    "collapsed": false
   },
   "outputs": [
    {
     "data": {
      "text/plain": [
       "Y    62\n",
       "N    38\n",
       "dtype: int64"
      ]
     },
     "execution_count": 78,
     "metadata": {},
     "output_type": "execute_result"
    }
   ],
   "source": [
    "profile['credit_card_flag'].value_counts()"
   ]
  },
  {
   "cell_type": "code",
   "execution_count": 79,
   "metadata": {
    "collapsed": false
   },
   "outputs": [
    {
     "data": {
      "text/plain": [
       "<matplotlib.axes._subplots.AxesSubplot at 0x121c8be0>"
      ]
     },
     "execution_count": 79,
     "metadata": {},
     "output_type": "execute_result"
    },
    {
     "data": {
      "image/png": "[encoded data removed]",
      "text/plain": [
       "<matplotlib.figure.Figure at 0x121d1198>"
      ]
     },
     "metadata": {},
     "output_type": "display_data"
    }
   ],
   "source": [
    "profile['loan_flag'].value_counts().plot(kind='bar')"
   ]
  },
  {
   "cell_type": "code",
   "execution_count": 80,
   "metadata": {
    "collapsed": false
   },
   "outputs": [
    {
     "data": {
      "text/plain": [
       "Y    60\n",
       "N    40\n",
       "dtype: int64"
      ]
     },
     "execution_count": 80,
     "metadata": {},
     "output_type": "execute_result"
    }
   ],
   "source": [
    "profile['loan_flag'].value_counts()"
   ]
  },
  {
   "cell_type": "code",
   "execution_count": 82,
   "metadata": {
    "collapsed": false
   },
   "outputs": [
    {
     "data": {
      "text/plain": [
       "<matplotlib.axes._subplots.AxesSubplot at 0x12436320>"
      ]
     },
     "execution_count": 82,
     "metadata": {},
     "output_type": "execute_result"
    },
    {
     "data": {
      "image/png": "[encoded data removed]",
      "text/plain": [
       "<matplotlib.figure.Figure at 0x125744a8>"
      ]
     },
     "metadata": {},
     "output_type": "display_data"
    }
   ],
   "source": [
    "profile['deposit_flag'].value_counts().plot(kind='bar')"
   ]
  },
  {
   "cell_type": "code",
   "execution_count": 81,
   "metadata": {
    "collapsed": false
   },
   "outputs": [
    {
     "data": {
      "text/plain": [
       "Y    52\n",
       "N    48\n",
       "dtype: int64"
      ]
     },
     "execution_count": 81,
     "metadata": {},
     "output_type": "execute_result"
    }
   ],
   "source": [
    "profile['deposit_flag'].value_counts()"
   ]
  },
  {
   "cell_type": "code",
   "execution_count": 83,
   "metadata": {
    "collapsed": false
   },
   "outputs": [
    {
     "data": {
      "text/plain": [
       "<matplotlib.axes._subplots.AxesSubplot at 0x12640208>"
      ]
     },
     "execution_count": 83,
     "metadata": {},
     "output_type": "execute_result"
    },
    {
     "data": {
      "image/png": "[encoded data removed]",
      "text/plain": [
       "<matplotlib.figure.Figure at 0x11a41fd0>"
      ]
     },
     "metadata": {},
     "output_type": "display_data"
    }
   ],
   "source": [
    "profile['wealth_flag'].value_counts().plot(kind='bar')"
   ]
  },
  {
   "cell_type": "code",
   "execution_count": 84,
   "metadata": {
    "collapsed": false
   },
   "outputs": [
    {
     "data": {
      "text/plain": [
       "N    50\n",
       "Y    50\n",
       "dtype: int64"
      ]
     },
     "execution_count": 84,
     "metadata": {},
     "output_type": "execute_result"
    }
   ],
   "source": [
    "profile['wealth_flag'].value_counts()"
   ]
  },
  {
   "cell_type": "code",
   "execution_count": null,
   "metadata": {
    "collapsed": true
   },
   "outputs": [],
   "source": []
  },
  {
   "cell_type": "code",
   "execution_count": 68,
   "metadata": {
    "collapsed": false
   },
   "outputs": [
    {
     "data": {
      "text/plain": [
       "<matplotlib.axes._subplots.AxesSubplot at 0xaaa5ac8>"
      ]
     },
     "execution_count": 68,
     "metadata": {},
     "output_type": "execute_result"
    },
    {
     "data": {
      "image/png": "[encoded data removed]",
      "text/plain": [
       "<matplotlib.figure.Figure at 0x11456a90>"
      ]
     },
     "metadata": {},
     "output_type": "display_data"
    }
   ],
   "source": [
    "profile['gender'].value_counts().plot(kind='bar')"
   ]
  },
  {
   "cell_type": "code",
   "execution_count": 71,
   "metadata": {
    "collapsed": false
   },
   "outputs": [
    {
     "data": {
      "text/plain": [
       "M    52\n",
       "F    48\n",
       "dtype: int64"
      ]
     },
     "execution_count": 71,
     "metadata": {},
     "output_type": "execute_result"
    }
   ],
   "source": [
    "profile['gender'].value_counts()"
   ]
  },
  {
   "cell_type": "code",
   "execution_count": 69,
   "metadata": {
    "collapsed": false
   },
   "outputs": [
    {
     "data": {
      "text/plain": [
       "<matplotlib.axes._subplots.AxesSubplot at 0x119893c8>"
      ]
     },
     "execution_count": 69,
     "metadata": {},
     "output_type": "execute_result"
    },
    {
     "data": {
      "image/png": "[encoded data removed]",
      "text/plain": [
       "<matplotlib.figure.Figure at 0x107e6ac8>"
      ]
     },
     "metadata": {},
     "output_type": "display_data"
    }
   ],
   "source": [
    "profile['contact_loc'].value_counts().plot(kind='bar')"
   ]
  },
  {
   "cell_type": "code",
   "execution_count": 70,
   "metadata": {
    "collapsed": false
   },
   "outputs": [
    {
     "data": {
      "text/plain": [
       "D    24\n",
       "I    16\n",
       "L    12\n",
       "F    12\n",
       "B    12\n",
       "J     8\n",
       "G     8\n",
       "K     4\n",
       "E     4\n",
       "dtype: int64"
      ]
     },
     "execution_count": 70,
     "metadata": {},
     "output_type": "execute_result"
    }
   ],
   "source": [
    "profile['contact_loc'].value_counts()"
   ]
  },
  {
   "cell_type": "code",
   "execution_count": 75,
   "metadata": {
    "collapsed": false
   },
   "outputs": [
    {
     "data": {
      "text/plain": [
       "<matplotlib.axes._subplots.AxesSubplot at 0x118d4390>"
      ]
     },
     "execution_count": 75,
     "metadata": {},
     "output_type": "execute_result"
    },
    {
     "data": {
      "image/png": "[encoded data removed]",
      "text/plain": [
       "<matplotlib.figure.Figure at 0x118d43c8>"
      ]
     },
     "metadata": {},
     "output_type": "display_data"
    }
   ],
   "source": [
    "profile['register_loc'].value_counts().plot(kind='bar')"
   ]
  },
  {
   "cell_type": "code",
   "execution_count": 76,
   "metadata": {
    "collapsed": false
   },
   "outputs": [
    {
     "data": {
      "text/plain": [
       "F    38\n",
       "G    10\n",
       "L     8\n",
       "J     8\n",
       "D     8\n",
       "E     8\n",
       "A     8\n",
       "K     4\n",
       "H     4\n",
       "B     4\n",
       "dtype: int64"
      ]
     },
     "execution_count": 76,
     "metadata": {},
     "output_type": "execute_result"
    }
   ],
   "source": [
    "profile['register_loc'].value_counts()"
   ]
  },
  {
   "cell_type": "code",
   "execution_count": 88,
   "metadata": {
    "collapsed": false
   },
   "outputs": [],
   "source": [
    "temp = pd.crosstab([profile.credit_card_flag, profile.loan_flag], profile.aum)"
   ]
  },
  {
   "cell_type": "code",
   "execution_count": 89,
   "metadata": {
    "collapsed": false
   },
   "outputs": [
    {
     "data": {
      "text/plain": [
       "<matplotlib.axes._subplots.AxesSubplot at 0x12d1e978>"
      ]
     },
     "execution_count": 89,
     "metadata": {},
     "output_type": "execute_result"
    },
    {
     "data": {
      "image/png": "[encoded data removed]",
      "text/plain": [
       "<matplotlib.figure.Figure at 0x12d1ecf8>"
      ]
     },
     "metadata": {},
     "output_type": "display_data"
    }
   ],
   "source": [
    "temp.plot(kind='bar', stacked=True, color=['red','blue'], grid=False)"
   ]
  },
  {
   "cell_type": "code",
   "execution_count": null,
   "metadata": {
    "collapsed": true
   },
   "outputs": [],
   "source": [
    "path =r'hackntu_x_cathay_2017-master/dataset/profile/partition_time=*/*'\n",
    "allFiles = glob.glob(path)\n",
    "frame = pd.DataFrame()\n",
    "list_ = []\n",
    "for file_ in allFiles:\n",
    "    df = pd.read_csv(file_, names=[u'customer_id', u'birth_time', u'gender', u'contact_loc',\n",
    "       u'contact_code', u'register_loc', u'register_code', u'start_time',\n",
    "       u'aum', u'net_profit', u'credit_card_flag', u'loan_flag',\n",
    "       u'deposit_flag', u'wealth_flag', u'partition_time'], header=None)\n",
    "    list_.append(df)\n",
    "\n",
    "profile = pd.concat(list_)"
   ]
  }
 ],
 "metadata": {
  "kernelspec": {
   "display_name": "Python 2",
   "language": "python",
   "name": "python2"
  },
  "language_info": {
   "codemirror_mode": {
    "name": "ipython",
    "version": 2
   },
   "file_extension": ".py",
   "mimetype": "text/x-python",
   "name": "python",
   "nbconvert_exporter": "python",
   "pygments_lexer": "ipython2",
   "version": "2.7.10"
  }
 },
 "nbformat": 4,
 "nbformat_minor": 0
}
