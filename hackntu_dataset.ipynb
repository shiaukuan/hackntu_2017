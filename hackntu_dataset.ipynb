{
 "cells": [
  {
   "cell_type": "code",
   "execution_count": 43,
   "metadata": {
    "collapsed": false
   },
   "outputs": [
    {
     "name": "stdout",
     "output_type": "stream",
     "text": [
      "Populating the interactive namespace from numpy and matplotlib\n"
     ]
    }
   ],
   "source": [
    "# -*- coding: utf8 -*-\n",
    "%pylab inline\n",
    "\n",
    "import pandas as pd\n",
    "import numpy as np\n",
    "pd.set_option('display.mpl_style', 'default') # Make the graphs a bit prettier\n",
    "plt.rcParams['figure.figsize'] = (15, 5)\n",
    "import json"
   ]
  },
  {
   "cell_type": "markdown",
   "metadata": {},
   "source": [
    "### profile\n",
    "\n",
    "| field            | type   | Description              |\n",
    "|------------------|--------|--------------------------|\n",
    "| customer_id      | String | 客戶 ID                  |\n",
    "| birth_time       | Long   | 出生時間戳記              |\n",
    "| gender           | String | 性別                     |\n",
    "| contact_loc      | String | 居住地區                  |\n",
    "| contact_code     | String | 居住地區郵遞區號代碼       |\n",
    "| register_loc     | String | 戶籍地區                  |\n",
    "| register_code    | String | 戶籍地區郵遞區號代碼     |\n",
    "| start_time       | Long   | 起始往來時間戳記         |\n",
    "| aum              | Double | 近三個月平均的總資產餘額 |\n",
    "| net_profit       | Double | 近一年淨收益             |\n",
    "| credit_card_flag | String | 是否有信用卡產品往來     |\n",
    "| loan_flag        | String | 是否有貸款產品往來       |\n",
    "| deposit_flag     | String | 是否有存款產品往來       |\n",
    "| wealth_flag      | String | 是否有理財產品往來       |\n",
    "| partition_time   | Long   | snapshot時間戳記     |"
   ]
  },
  {
   "cell_type": "code",
   "execution_count": 44,
   "metadata": {
    "collapsed": false
   },
   "outputs": [
    {
     "data": {
      "text/html": [
       "<div>\n",
       "<table border=\"1\" class=\"dataframe\">\n",
       "  <thead>\n",
       "    <tr style=\"text-align: right;\">\n",
       "      <th></th>\n",
       "      <th>customer_id</th>\n",
       "      <th>birth_time</th>\n",
       "      <th>gender</th>\n",
       "      <th>contact_loc</th>\n",
       "      <th>contact_code</th>\n",
       "      <th>register_loc</th>\n",
       "      <th>register_code</th>\n",
       "      <th>start_time</th>\n",
       "      <th>aum</th>\n",
       "      <th>net_profit</th>\n",
       "      <th>credit_card_flag</th>\n",
       "      <th>loan_flag</th>\n",
       "      <th>deposit_flag</th>\n",
       "      <th>wealth_flag</th>\n",
       "      <th>partition_time</th>\n",
       "    </tr>\n",
       "  </thead>\n",
       "  <tbody>\n",
       "    <tr>\n",
       "      <th>0</th>\n",
       "      <td>1</td>\n",
       "      <td>1083060338</td>\n",
       "      <td>F</td>\n",
       "      <td>I</td>\n",
       "      <td>292141</td>\n",
       "      <td>F</td>\n",
       "      <td>606063</td>\n",
       "      <td>3667420800</td>\n",
       "      <td>173.028965</td>\n",
       "      <td>168.625836</td>\n",
       "      <td>Y</td>\n",
       "      <td>Y</td>\n",
       "      <td>Y</td>\n",
       "      <td>Y</td>\n",
       "      <td>3696969600</td>\n",
       "    </tr>\n",
       "    <tr>\n",
       "      <th>1</th>\n",
       "      <td>1</td>\n",
       "      <td>1083060338</td>\n",
       "      <td>F</td>\n",
       "      <td>I</td>\n",
       "      <td>292141</td>\n",
       "      <td>F</td>\n",
       "      <td>606063</td>\n",
       "      <td>3667420800</td>\n",
       "      <td>169.550963</td>\n",
       "      <td>168.467397</td>\n",
       "      <td>Y</td>\n",
       "      <td>Y</td>\n",
       "      <td>Y</td>\n",
       "      <td>N</td>\n",
       "      <td>3699475200</td>\n",
       "    </tr>\n",
       "  </tbody>\n",
       "</table>\n",
       "</div>"
      ],
      "text/plain": [
       "   customer_id  birth_time gender contact_loc  contact_code register_loc  \\\n",
       "0            1  1083060338      F           I        292141            F   \n",
       "1            1  1083060338      F           I        292141            F   \n",
       "\n",
       "   register_code  start_time         aum  net_profit credit_card_flag  \\\n",
       "0         606063  3667420800  173.028965  168.625836                Y   \n",
       "1         606063  3667420800  169.550963  168.467397                Y   \n",
       "\n",
       "  loan_flag deposit_flag wealth_flag  partition_time  \n",
       "0         Y            Y           Y      3696969600  \n",
       "1         Y            Y           N      3699475200  "
      ]
     },
     "execution_count": 44,
     "metadata": {},
     "output_type": "execute_result"
    }
   ],
   "source": [
    "pd.read_csv(\"profile_1.csv\")"
   ]
  },
  {
   "cell_type": "markdown",
   "metadata": {},
   "source": [
    "## event\n",
    "### themes\n",
    "* cctxn  信用卡消費\n",
    "* atm    ATM 交易\n",
    "* cti    客服中心進線\n",
    "* mybank MyBank 交易\n",
    "\n",
    "\n",
    "\n",
    "| field          | type   | description                          |\n",
    "|----------------|--------|--------------------------------------|\n",
    "| actor_type     | String | 值皆是\"customer_id\"                  |\n",
    "| actor_id       | String | 行為者ID                             |\n",
    "| action_type    | String | 行為類型                             |\n",
    "| action_time    | Long   | 行為發生時間戳記                     |\n",
    "| object_type    | String | 影響物件類型                         |\n",
    "| object_id      | String | 影響物件ID                           |\n",
    "| channel_type   | String | 通路類型                             |\n",
    "| channel_id     | String | 通路ID                               |\n",
    "| attrs          | String | 補充資料 - JSON string               |\n",
    "| partition_time | Long   | 最近上一區段時間戳記 (可串連profile) |\n",
    "| theme          | String | 主題 - cc_txn, atm, cti, mybank      |"
   ]
  },
  {
   "cell_type": "markdown",
   "metadata": {},
   "source": [
    "# cctxn 信用卡消費"
   ]
  },
  {
   "cell_type": "code",
   "execution_count": 45,
   "metadata": {
    "collapsed": false
   },
   "outputs": [
    {
     "data": {
      "text/html": [
       "<div>\n",
       "<table border=\"1\" class=\"dataframe\">\n",
       "  <thead>\n",
       "    <tr style=\"text-align: right;\">\n",
       "      <th></th>\n",
       "      <th>actor_type</th>\n",
       "      <th>actor_id</th>\n",
       "      <th>action_type</th>\n",
       "      <th>action_time</th>\n",
       "      <th>object_type</th>\n",
       "      <th>object_id</th>\n",
       "      <th>channel_type</th>\n",
       "      <th>channel_id</th>\n",
       "      <th>attrs</th>\n",
       "      <th>partition_time</th>\n",
       "      <th>theme</th>\n",
       "    </tr>\n",
       "  </thead>\n",
       "  <tbody>\n",
       "    <tr>\n",
       "      <th>0</th>\n",
       "      <td>customer_id</td>\n",
       "      <td>1</td>\n",
       "      <td>cash_advance</td>\n",
       "      <td>3697095641</td>\n",
       "      <td>merchant_nbr</td>\n",
       "      <td>QYOJMXCCREMKJEOKLWUI</td>\n",
       "      <td>credit_card</td>\n",
       "      <td>ZLRJTUPFJSDRFJFKURQP</td>\n",
       "      <td>{\"action\": {\"txn_amt\": 636.1045150272515, \"ori...</td>\n",
       "      <td>3696969600</td>\n",
       "      <td>cc_txn</td>\n",
       "    </tr>\n",
       "    <tr>\n",
       "      <th>1</th>\n",
       "      <td>customer_id</td>\n",
       "      <td>1</td>\n",
       "      <td>purchase_consumption</td>\n",
       "      <td>3697656582</td>\n",
       "      <td>merchant_nbr</td>\n",
       "      <td>RVZPYYIYSDYAMPVLOVFJ</td>\n",
       "      <td>credit_card</td>\n",
       "      <td>SHHCTTOLPRNOTGPVYFXR</td>\n",
       "      <td>{\"action\": {\"txn_amt\": 753.3877214961954, \"ori...</td>\n",
       "      <td>3696969600</td>\n",
       "      <td>cc_txn</td>\n",
       "    </tr>\n",
       "    <tr>\n",
       "      <th>2</th>\n",
       "      <td>customer_id</td>\n",
       "      <td>1</td>\n",
       "      <td>purchase_consumption</td>\n",
       "      <td>3698028058</td>\n",
       "      <td>merchant_nbr</td>\n",
       "      <td>UOHNJGTLKWKMTWFRJCNY</td>\n",
       "      <td>credit_card</td>\n",
       "      <td>FFSJSSCIVHDCIULWPPNT</td>\n",
       "      <td>{\"action\": {\"txn_amt\": 319.7759132835427, \"ori...</td>\n",
       "      <td>3696969600</td>\n",
       "      <td>cc_txn</td>\n",
       "    </tr>\n",
       "    <tr>\n",
       "      <th>3</th>\n",
       "      <td>customer_id</td>\n",
       "      <td>1</td>\n",
       "      <td>purchase_consumption</td>\n",
       "      <td>3698071617</td>\n",
       "      <td>merchant_nbr</td>\n",
       "      <td>CGTNCWJLGOYAKVVLQXGP</td>\n",
       "      <td>credit_card</td>\n",
       "      <td>ZUAEEVYUBPCUXYCRUHZY</td>\n",
       "      <td>{\"action\": {\"txn_amt\": 147.37008400058028, \"or...</td>\n",
       "      <td>3696969600</td>\n",
       "      <td>cc_txn</td>\n",
       "    </tr>\n",
       "    <tr>\n",
       "      <th>4</th>\n",
       "      <td>customer_id</td>\n",
       "      <td>1</td>\n",
       "      <td>cash_advance</td>\n",
       "      <td>3698251396</td>\n",
       "      <td>merchant_nbr</td>\n",
       "      <td>INZHHMCNOKDSMKNKEJPI</td>\n",
       "      <td>credit_card</td>\n",
       "      <td>CVENEQKVTZQRDKBFTWTH</td>\n",
       "      <td>{\"action\": {\"txn_amt\": 196.1426842614706, \"ori...</td>\n",
       "      <td>3696969600</td>\n",
       "      <td>cc_txn</td>\n",
       "    </tr>\n",
       "    <tr>\n",
       "      <th>5</th>\n",
       "      <td>customer_id</td>\n",
       "      <td>1</td>\n",
       "      <td>cash_advance</td>\n",
       "      <td>3698821969</td>\n",
       "      <td>merchant_nbr</td>\n",
       "      <td>OLIFHVJOKMKXLVKBRNAJ</td>\n",
       "      <td>credit_card</td>\n",
       "      <td>AIIJNCLECPSDLVBDHYUI</td>\n",
       "      <td>{\"action\": {\"txn_amt\": 546.8599399230856, \"ori...</td>\n",
       "      <td>3696969600</td>\n",
       "      <td>cc_txn</td>\n",
       "    </tr>\n",
       "  </tbody>\n",
       "</table>\n",
       "</div>"
      ],
      "text/plain": [
       "    actor_type  actor_id           action_type  action_time   object_type  \\\n",
       "0  customer_id         1          cash_advance   3697095641  merchant_nbr   \n",
       "1  customer_id         1  purchase_consumption   3697656582  merchant_nbr   \n",
       "2  customer_id         1  purchase_consumption   3698028058  merchant_nbr   \n",
       "3  customer_id         1  purchase_consumption   3698071617  merchant_nbr   \n",
       "4  customer_id         1          cash_advance   3698251396  merchant_nbr   \n",
       "5  customer_id         1          cash_advance   3698821969  merchant_nbr   \n",
       "\n",
       "              object_id channel_type            channel_id  \\\n",
       "0  QYOJMXCCREMKJEOKLWUI  credit_card  ZLRJTUPFJSDRFJFKURQP   \n",
       "1  RVZPYYIYSDYAMPVLOVFJ  credit_card  SHHCTTOLPRNOTGPVYFXR   \n",
       "2  UOHNJGTLKWKMTWFRJCNY  credit_card  FFSJSSCIVHDCIULWPPNT   \n",
       "3  CGTNCWJLGOYAKVVLQXGP  credit_card  ZUAEEVYUBPCUXYCRUHZY   \n",
       "4  INZHHMCNOKDSMKNKEJPI  credit_card  CVENEQKVTZQRDKBFTWTH   \n",
       "5  OLIFHVJOKMKXLVKBRNAJ  credit_card  AIIJNCLECPSDLVBDHYUI   \n",
       "\n",
       "                                               attrs  partition_time   theme  \n",
       "0  {\"action\": {\"txn_amt\": 636.1045150272515, \"ori...      3696969600  cc_txn  \n",
       "1  {\"action\": {\"txn_amt\": 753.3877214961954, \"ori...      3696969600  cc_txn  \n",
       "2  {\"action\": {\"txn_amt\": 319.7759132835427, \"ori...      3696969600  cc_txn  \n",
       "3  {\"action\": {\"txn_amt\": 147.37008400058028, \"or...      3696969600  cc_txn  \n",
       "4  {\"action\": {\"txn_amt\": 196.1426842614706, \"ori...      3696969600  cc_txn  \n",
       "5  {\"action\": {\"txn_amt\": 546.8599399230856, \"ori...      3696969600  cc_txn  "
      ]
     },
     "execution_count": 45,
     "metadata": {},
     "output_type": "execute_result"
    }
   ],
   "source": [
    "data=pd.read_csv(\"cctxn_1.csv\")\n",
    "data"
   ]
  },
  {
   "cell_type": "markdown",
   "metadata": {},
   "source": [
    "# cctxn 的 attrs 裡面的資料 不知道是什麼?"
   ]
  },
  {
   "cell_type": "code",
   "execution_count": 46,
   "metadata": {
    "collapsed": false
   },
   "outputs": [
    {
     "data": {
      "text/plain": [
       "{u'action': {u'original_currency_code': u'TWD', u'txn_amt': 636.1045150272515},\n",
       " u'channel': {u'card_level': u'4', u'card_type': u'A'},\n",
       " u'object': {u'merchant_category_code': u'03661'}}"
      ]
     },
     "execution_count": 46,
     "metadata": {},
     "output_type": "execute_result"
    }
   ],
   "source": [
    "data['attrs'].apply(lambda x:json.loads(x))[0]"
   ]
  },
  {
   "cell_type": "code",
   "execution_count": 47,
   "metadata": {
    "collapsed": false
   },
   "outputs": [
    {
     "data": {
      "text/plain": [
       "{u'action': {u'original_currency_code': u'TWD', u'txn_amt': 753.3877214961954},\n",
       " u'channel': {u'card_level': u'3', u'card_type': u'A'},\n",
       " u'object': {u'merchant_category_code': u'09223'}}"
      ]
     },
     "execution_count": 47,
     "metadata": {},
     "output_type": "execute_result"
    }
   ],
   "source": [
    "data['attrs'].apply(lambda x:json.loads(x))[1]"
   ]
  },
  {
   "cell_type": "code",
   "execution_count": 48,
   "metadata": {
    "collapsed": false
   },
   "outputs": [
    {
     "data": {
      "text/plain": [
       "{u'action': {u'original_currency_code': u'TWD', u'txn_amt': 319.7759132835427},\n",
       " u'channel': {u'card_level': u'4', u'card_type': u'B'},\n",
       " u'object': {u'merchant_category_code': u'0LLL4'}}"
      ]
     },
     "execution_count": 48,
     "metadata": {},
     "output_type": "execute_result"
    }
   ],
   "source": [
    "data['attrs'].apply(lambda x:json.loads(x))[2]"
   ]
  },
  {
   "cell_type": "markdown",
   "metadata": {},
   "source": [
    "# atm ATM 交易"
   ]
  },
  {
   "cell_type": "code",
   "execution_count": 49,
   "metadata": {
    "collapsed": false
   },
   "outputs": [
    {
     "data": {
      "text/html": [
       "<div>\n",
       "<table border=\"1\" class=\"dataframe\">\n",
       "  <thead>\n",
       "    <tr style=\"text-align: right;\">\n",
       "      <th></th>\n",
       "      <th>actor_type</th>\n",
       "      <th>actor_id</th>\n",
       "      <th>action_type</th>\n",
       "      <th>action_time</th>\n",
       "      <th>object_type</th>\n",
       "      <th>object_id</th>\n",
       "      <th>channel_type</th>\n",
       "      <th>channel_id</th>\n",
       "      <th>attrs</th>\n",
       "      <th>partition_time</th>\n",
       "      <th>theme</th>\n",
       "    </tr>\n",
       "  </thead>\n",
       "  <tbody>\n",
       "    <tr>\n",
       "      <th>0</th>\n",
       "      <td>customer_id</td>\n",
       "      <td>1</td>\n",
       "      <td>inquire</td>\n",
       "      <td>3697441132</td>\n",
       "      <td>saving_acct</td>\n",
       "      <td>NAHPXDFRQHWJMUOPGVKY</td>\n",
       "      <td>ATM</td>\n",
       "      <td>BFWIMSCOXPEYPLIDHYXA</td>\n",
       "      <td>{\"action\": {\"txn_amt\": 0.0, \"txn_fee_amt\": 0.0...</td>\n",
       "      <td>3696969600</td>\n",
       "      <td>atm</td>\n",
       "    </tr>\n",
       "    <tr>\n",
       "      <th>1</th>\n",
       "      <td>customer_id</td>\n",
       "      <td>1</td>\n",
       "      <td>withdraw</td>\n",
       "      <td>3697581404</td>\n",
       "      <td>saving_acct</td>\n",
       "      <td>NRMKUUHUWSLOTVHDLYYA</td>\n",
       "      <td>ATM</td>\n",
       "      <td>VJLWIOOEDTKTUXNCOKEZ</td>\n",
       "      <td>{\"action\": {\"txn_amt\": 104.17926497357601, \"tx...</td>\n",
       "      <td>3696969600</td>\n",
       "      <td>atm</td>\n",
       "    </tr>\n",
       "    <tr>\n",
       "      <th>2</th>\n",
       "      <td>customer_id</td>\n",
       "      <td>1</td>\n",
       "      <td>transfer</td>\n",
       "      <td>3697935222</td>\n",
       "      <td>saving_acct</td>\n",
       "      <td>UTMFOCJZSZLVQIPWPORO</td>\n",
       "      <td>ATM</td>\n",
       "      <td>OHKONNHJHIYHGHJCTJHQ</td>\n",
       "      <td>{\"action\": {\"txn_amt\": 1265.7452899489804, \"tx...</td>\n",
       "      <td>3696969600</td>\n",
       "      <td>atm</td>\n",
       "    </tr>\n",
       "    <tr>\n",
       "      <th>3</th>\n",
       "      <td>customer_id</td>\n",
       "      <td>1</td>\n",
       "      <td>transfer</td>\n",
       "      <td>3697970913</td>\n",
       "      <td>saving_acct</td>\n",
       "      <td>XXCOWKORAVGNTTYVNKRA</td>\n",
       "      <td>ATM</td>\n",
       "      <td>ZSVLQTMHBYLEQFGUWSGY</td>\n",
       "      <td>{\"action\": {\"txn_amt\": 78.33859332672111, \"txn...</td>\n",
       "      <td>3696969600</td>\n",
       "      <td>atm</td>\n",
       "    </tr>\n",
       "    <tr>\n",
       "      <th>4</th>\n",
       "      <td>customer_id</td>\n",
       "      <td>1</td>\n",
       "      <td>inquire</td>\n",
       "      <td>3698104533</td>\n",
       "      <td>saving_acct</td>\n",
       "      <td>QSBDRHXBQCBRYBMKOUQW</td>\n",
       "      <td>ATM</td>\n",
       "      <td>TEELMNVAIONOTCYVHUWK</td>\n",
       "      <td>{\"action\": {\"txn_amt\": 0.0, \"txn_fee_amt\": 0.0...</td>\n",
       "      <td>3696969600</td>\n",
       "      <td>atm</td>\n",
       "    </tr>\n",
       "    <tr>\n",
       "      <th>5</th>\n",
       "      <td>customer_id</td>\n",
       "      <td>1</td>\n",
       "      <td>withdraw</td>\n",
       "      <td>3698391544</td>\n",
       "      <td>saving_acct</td>\n",
       "      <td>ZJHXAANRDYULPPSJTSEL</td>\n",
       "      <td>ATM</td>\n",
       "      <td>CBCDXFQWBNYHXQTWRRLL</td>\n",
       "      <td>{\"action\": {\"txn_amt\": 1209.619220718413, \"txn...</td>\n",
       "      <td>3696969600</td>\n",
       "      <td>atm</td>\n",
       "    </tr>\n",
       "    <tr>\n",
       "      <th>6</th>\n",
       "      <td>customer_id</td>\n",
       "      <td>1</td>\n",
       "      <td>inquire</td>\n",
       "      <td>3699105123</td>\n",
       "      <td>saving_acct</td>\n",
       "      <td>SACWEDMGXWNDUPGTHZDF</td>\n",
       "      <td>ATM</td>\n",
       "      <td>GRWOISCSRQZAIVZXZSXS</td>\n",
       "      <td>{\"action\": {\"txn_amt\": 0.0, \"txn_fee_amt\": 0.0...</td>\n",
       "      <td>3696969600</td>\n",
       "      <td>atm</td>\n",
       "    </tr>\n",
       "    <tr>\n",
       "      <th>7</th>\n",
       "      <td>customer_id</td>\n",
       "      <td>1</td>\n",
       "      <td>withdraw</td>\n",
       "      <td>3699317109</td>\n",
       "      <td>saving_acct</td>\n",
       "      <td>GFRBJVOSFIUAZTZDFZPU</td>\n",
       "      <td>ATM</td>\n",
       "      <td>FQZMDVZNRNBKVOXZKMXY</td>\n",
       "      <td>{\"action\": {\"txn_amt\": 544.1424059361929, \"txn...</td>\n",
       "      <td>3696969600</td>\n",
       "      <td>atm</td>\n",
       "    </tr>\n",
       "  </tbody>\n",
       "</table>\n",
       "</div>"
      ],
      "text/plain": [
       "    actor_type  actor_id action_type  action_time  object_type  \\\n",
       "0  customer_id         1     inquire   3697441132  saving_acct   \n",
       "1  customer_id         1    withdraw   3697581404  saving_acct   \n",
       "2  customer_id         1    transfer   3697935222  saving_acct   \n",
       "3  customer_id         1    transfer   3697970913  saving_acct   \n",
       "4  customer_id         1     inquire   3698104533  saving_acct   \n",
       "5  customer_id         1    withdraw   3698391544  saving_acct   \n",
       "6  customer_id         1     inquire   3699105123  saving_acct   \n",
       "7  customer_id         1    withdraw   3699317109  saving_acct   \n",
       "\n",
       "              object_id channel_type            channel_id  \\\n",
       "0  NAHPXDFRQHWJMUOPGVKY          ATM  BFWIMSCOXPEYPLIDHYXA   \n",
       "1  NRMKUUHUWSLOTVHDLYYA          ATM  VJLWIOOEDTKTUXNCOKEZ   \n",
       "2  UTMFOCJZSZLVQIPWPORO          ATM  OHKONNHJHIYHGHJCTJHQ   \n",
       "3  XXCOWKORAVGNTTYVNKRA          ATM  ZSVLQTMHBYLEQFGUWSGY   \n",
       "4  QSBDRHXBQCBRYBMKOUQW          ATM  TEELMNVAIONOTCYVHUWK   \n",
       "5  ZJHXAANRDYULPPSJTSEL          ATM  CBCDXFQWBNYHXQTWRRLL   \n",
       "6  SACWEDMGXWNDUPGTHZDF          ATM  GRWOISCSRQZAIVZXZSXS   \n",
       "7  GFRBJVOSFIUAZTZDFZPU          ATM  FQZMDVZNRNBKVOXZKMXY   \n",
       "\n",
       "                                               attrs  partition_time theme  \n",
       "0  {\"action\": {\"txn_amt\": 0.0, \"txn_fee_amt\": 0.0...      3696969600   atm  \n",
       "1  {\"action\": {\"txn_amt\": 104.17926497357601, \"tx...      3696969600   atm  \n",
       "2  {\"action\": {\"txn_amt\": 1265.7452899489804, \"tx...      3696969600   atm  \n",
       "3  {\"action\": {\"txn_amt\": 78.33859332672111, \"txn...      3696969600   atm  \n",
       "4  {\"action\": {\"txn_amt\": 0.0, \"txn_fee_amt\": 0.0...      3696969600   atm  \n",
       "5  {\"action\": {\"txn_amt\": 1209.619220718413, \"txn...      3696969600   atm  \n",
       "6  {\"action\": {\"txn_amt\": 0.0, \"txn_fee_amt\": 0.0...      3696969600   atm  \n",
       "7  {\"action\": {\"txn_amt\": 544.1424059361929, \"txn...      3696969600   atm  "
      ]
     },
     "execution_count": 49,
     "metadata": {},
     "output_type": "execute_result"
    }
   ],
   "source": [
    "data=pd.read_csv(\"atm_1.csv\")\n",
    "data"
   ]
  },
  {
   "cell_type": "markdown",
   "metadata": {},
   "source": [
    "## attrs 裡面的資料"
   ]
  },
  {
   "cell_type": "code",
   "execution_count": 50,
   "metadata": {
    "collapsed": false
   },
   "outputs": [
    {
     "data": {
      "text/plain": [
       "{u'action': {u'trans_type': u'trans_out',\n",
       "  u'txn_amt': 0.0,\n",
       "  u'txn_fee_amt': 0.0},\n",
       " u'channel': {u'address_zipcode': 230881, u'machine_bank_code': u'Cathay'},\n",
       " u'object': {u'target_acct_nbr': u'SMEVXWRXAROHMNMDMSEM',\n",
       "  u'target_bank_code': u'Cathay'}}"
      ]
     },
     "execution_count": 50,
     "metadata": {},
     "output_type": "execute_result"
    }
   ],
   "source": [
    "data['attrs'].apply(lambda x:json.loads(x))[0]"
   ]
  },
  {
   "cell_type": "code",
   "execution_count": 51,
   "metadata": {
    "collapsed": false
   },
   "outputs": [
    {
     "data": {
      "text/plain": [
       "{u'action': {u'trans_type': u'trans_out',\n",
       "  u'txn_amt': 104.17926497357601,\n",
       "  u'txn_fee_amt': 15.0},\n",
       " u'channel': {u'address_zipcode': 87321, u'machine_bank_code': u'Cathay'},\n",
       " u'object': {u'target_acct_nbr': u'OKKZADUAAGWJNVQHSWVA',\n",
       "  u'target_bank_code': u'A_bank'}}"
      ]
     },
     "execution_count": 51,
     "metadata": {},
     "output_type": "execute_result"
    }
   ],
   "source": [
    "data['attrs'].apply(lambda x:json.loads(x))[1]"
   ]
  },
  {
   "cell_type": "code",
   "execution_count": 52,
   "metadata": {
    "collapsed": false
   },
   "outputs": [
    {
     "data": {
      "text/plain": [
       "{u'action': {u'trans_type': u'trans_in',\n",
       "  u'txn_amt': 1265.7452899489804,\n",
       "  u'txn_fee_amt': 15.0},\n",
       " u'channel': {u'address_zipcode': 14043, u'machine_bank_code': u'Cathay'},\n",
       " u'object': {u'target_acct_nbr': u'WTTIHYHIUMDHHOEKZYVR',\n",
       "  u'target_bank_code': u'C_bank'}}"
      ]
     },
     "execution_count": 52,
     "metadata": {},
     "output_type": "execute_result"
    }
   ],
   "source": [
    "data['attrs'].apply(lambda x:json.loads(x))[2]"
   ]
  },
  {
   "cell_type": "markdown",
   "metadata": {},
   "source": [
    "# cti 客服中心進線"
   ]
  },
  {
   "cell_type": "code",
   "execution_count": 53,
   "metadata": {
    "collapsed": false
   },
   "outputs": [
    {
     "data": {
      "text/html": [
       "<div>\n",
       "<table border=\"1\" class=\"dataframe\">\n",
       "  <thead>\n",
       "    <tr style=\"text-align: right;\">\n",
       "      <th></th>\n",
       "      <th>actor_type</th>\n",
       "      <th>actor_id</th>\n",
       "      <th>action_type</th>\n",
       "      <th>action_time</th>\n",
       "      <th>object_type</th>\n",
       "      <th>object_id</th>\n",
       "      <th>channel_type</th>\n",
       "      <th>channel_id</th>\n",
       "      <th>attrs</th>\n",
       "      <th>partition_time</th>\n",
       "      <th>theme</th>\n",
       "    </tr>\n",
       "  </thead>\n",
       "  <tbody>\n",
       "    <tr>\n",
       "      <th>0</th>\n",
       "      <td>customer_id</td>\n",
       "      <td>1</td>\n",
       "      <td>inbound</td>\n",
       "      <td>3697251672</td>\n",
       "      <td>call_purpose</td>\n",
       "      <td>2_8_202</td>\n",
       "      <td>customer_service</td>\n",
       "      <td>personal_phone_service</td>\n",
       "      <td>{\"action\": {\"call_nbr\": \"HIBWVYBHSIYZFGUDDSAC\"...</td>\n",
       "      <td>3696969600</td>\n",
       "      <td>cti</td>\n",
       "    </tr>\n",
       "    <tr>\n",
       "      <th>1</th>\n",
       "      <td>customer_id</td>\n",
       "      <td>1</td>\n",
       "      <td>inbound</td>\n",
       "      <td>3698252247</td>\n",
       "      <td>call_purpose</td>\n",
       "      <td>1_1_247</td>\n",
       "      <td>customer_service</td>\n",
       "      <td>personal_phone_service</td>\n",
       "      <td>{\"action\": {\"call_nbr\": \"COWKORAVGNTTYVNKRAZS\"...</td>\n",
       "      <td>3696969600</td>\n",
       "      <td>cti</td>\n",
       "    </tr>\n",
       "    <tr>\n",
       "      <th>2</th>\n",
       "      <td>customer_id</td>\n",
       "      <td>1</td>\n",
       "      <td>inbound</td>\n",
       "      <td>3698272965</td>\n",
       "      <td>call_purpose</td>\n",
       "      <td>0_19_259</td>\n",
       "      <td>customer_service</td>\n",
       "      <td>personal_phone_service</td>\n",
       "      <td>{\"action\": {\"call_nbr\": \"ENAADXBGWETKLVGFRBJV\"...</td>\n",
       "      <td>3696969600</td>\n",
       "      <td>cti</td>\n",
       "    </tr>\n",
       "    <tr>\n",
       "      <th>3</th>\n",
       "      <td>customer_id</td>\n",
       "      <td>1</td>\n",
       "      <td>inbound</td>\n",
       "      <td>3698682470</td>\n",
       "      <td>call_purpose</td>\n",
       "      <td>2_4_155</td>\n",
       "      <td>customer_service</td>\n",
       "      <td>personal_phone_service</td>\n",
       "      <td>{\"action\": {\"call_nbr\": \"XWNDUPGTHZDFGRWOISCS\"...</td>\n",
       "      <td>3696969600</td>\n",
       "      <td>cti</td>\n",
       "    </tr>\n",
       "    <tr>\n",
       "      <th>4</th>\n",
       "      <td>customer_id</td>\n",
       "      <td>1</td>\n",
       "      <td>inbound</td>\n",
       "      <td>3698785016</td>\n",
       "      <td>call_purpose</td>\n",
       "      <td>1_14_12</td>\n",
       "      <td>customer_service</td>\n",
       "      <td>personal_phone_service</td>\n",
       "      <td>{\"action\": {\"call_nbr\": \"KGDHAFOUVUCMTJTENHRD\"...</td>\n",
       "      <td>3696969600</td>\n",
       "      <td>cti</td>\n",
       "    </tr>\n",
       "    <tr>\n",
       "      <th>5</th>\n",
       "      <td>customer_id</td>\n",
       "      <td>1</td>\n",
       "      <td>inbound</td>\n",
       "      <td>3699005211</td>\n",
       "      <td>call_purpose</td>\n",
       "      <td>0_29_49</td>\n",
       "      <td>customer_service</td>\n",
       "      <td>personal_phone_service</td>\n",
       "      <td>{\"action\": {\"call_nbr\": \"QZAIVZXZSXSHWVZYVACH\"...</td>\n",
       "      <td>3696969600</td>\n",
       "      <td>cti</td>\n",
       "    </tr>\n",
       "    <tr>\n",
       "      <th>6</th>\n",
       "      <td>customer_id</td>\n",
       "      <td>1</td>\n",
       "      <td>inbound</td>\n",
       "      <td>3699141440</td>\n",
       "      <td>call_purpose</td>\n",
       "      <td>2_18_20</td>\n",
       "      <td>customer_service</td>\n",
       "      <td>personal_phone_service</td>\n",
       "      <td>{\"action\": {\"call_nbr\": \"ZTZDFZPUFQZMDVZNRNBK\"...</td>\n",
       "      <td>3696969600</td>\n",
       "      <td>cti</td>\n",
       "    </tr>\n",
       "    <tr>\n",
       "      <th>7</th>\n",
       "      <td>customer_id</td>\n",
       "      <td>1</td>\n",
       "      <td>inbound</td>\n",
       "      <td>3699193011</td>\n",
       "      <td>call_purpose</td>\n",
       "      <td>1_11_176</td>\n",
       "      <td>customer_service</td>\n",
       "      <td>personal_phone_service</td>\n",
       "      <td>{\"action\": {\"call_nbr\": \"MHBYLEQFGUWSGYRVIIXV\"...</td>\n",
       "      <td>3696969600</td>\n",
       "      <td>cti</td>\n",
       "    </tr>\n",
       "  </tbody>\n",
       "</table>\n",
       "</div>"
      ],
      "text/plain": [
       "    actor_type  actor_id action_type  action_time   object_type object_id  \\\n",
       "0  customer_id         1     inbound   3697251672  call_purpose   2_8_202   \n",
       "1  customer_id         1     inbound   3698252247  call_purpose   1_1_247   \n",
       "2  customer_id         1     inbound   3698272965  call_purpose  0_19_259   \n",
       "3  customer_id         1     inbound   3698682470  call_purpose   2_4_155   \n",
       "4  customer_id         1     inbound   3698785016  call_purpose   1_14_12   \n",
       "5  customer_id         1     inbound   3699005211  call_purpose   0_29_49   \n",
       "6  customer_id         1     inbound   3699141440  call_purpose   2_18_20   \n",
       "7  customer_id         1     inbound   3699193011  call_purpose  1_11_176   \n",
       "\n",
       "       channel_type              channel_id  \\\n",
       "0  customer_service  personal_phone_service   \n",
       "1  customer_service  personal_phone_service   \n",
       "2  customer_service  personal_phone_service   \n",
       "3  customer_service  personal_phone_service   \n",
       "4  customer_service  personal_phone_service   \n",
       "5  customer_service  personal_phone_service   \n",
       "6  customer_service  personal_phone_service   \n",
       "7  customer_service  personal_phone_service   \n",
       "\n",
       "                                               attrs  partition_time theme  \n",
       "0  {\"action\": {\"call_nbr\": \"HIBWVYBHSIYZFGUDDSAC\"...      3696969600   cti  \n",
       "1  {\"action\": {\"call_nbr\": \"COWKORAVGNTTYVNKRAZS\"...      3696969600   cti  \n",
       "2  {\"action\": {\"call_nbr\": \"ENAADXBGWETKLVGFRBJV\"...      3696969600   cti  \n",
       "3  {\"action\": {\"call_nbr\": \"XWNDUPGTHZDFGRWOISCS\"...      3696969600   cti  \n",
       "4  {\"action\": {\"call_nbr\": \"KGDHAFOUVUCMTJTENHRD\"...      3696969600   cti  \n",
       "5  {\"action\": {\"call_nbr\": \"QZAIVZXZSXSHWVZYVACH\"...      3696969600   cti  \n",
       "6  {\"action\": {\"call_nbr\": \"ZTZDFZPUFQZMDVZNRNBK\"...      3696969600   cti  \n",
       "7  {\"action\": {\"call_nbr\": \"MHBYLEQFGUWSGYRVIIXV\"...      3696969600   cti  "
      ]
     },
     "execution_count": 53,
     "metadata": {},
     "output_type": "execute_result"
    }
   ],
   "source": [
    "data=pd.read_csv(\"cti_1.csv\")\n",
    "data"
   ]
  },
  {
   "cell_type": "markdown",
   "metadata": {},
   "source": [
    "## attrs 裡面的資料"
   ]
  },
  {
   "cell_type": "code",
   "execution_count": 54,
   "metadata": {
    "collapsed": false
   },
   "outputs": [
    {
     "data": {
      "text/plain": [
       "{u'action': {u'call_nbr': u'HIBWVYBHSIYZFGUDDSAC'},\n",
       " u'object': {u'business_desc': u'2',\n",
       "  u'detail_desc': u'202',\n",
       "  u'type_desc': u'8'}}"
      ]
     },
     "execution_count": 54,
     "metadata": {},
     "output_type": "execute_result"
    }
   ],
   "source": [
    "data['attrs'].apply(lambda x:json.loads(x))[0]"
   ]
  },
  {
   "cell_type": "code",
   "execution_count": 55,
   "metadata": {
    "collapsed": false
   },
   "outputs": [
    {
     "data": {
      "text/plain": [
       "{u'action': {u'call_nbr': u'COWKORAVGNTTYVNKRAZS'},\n",
       " u'object': {u'business_desc': u'1',\n",
       "  u'detail_desc': u'247',\n",
       "  u'type_desc': u'1'}}"
      ]
     },
     "execution_count": 55,
     "metadata": {},
     "output_type": "execute_result"
    }
   ],
   "source": [
    "data['attrs'].apply(lambda x:json.loads(x))[1]"
   ]
  },
  {
   "cell_type": "code",
   "execution_count": 56,
   "metadata": {
    "collapsed": false
   },
   "outputs": [
    {
     "data": {
      "text/plain": [
       "{u'action': {u'call_nbr': u'ENAADXBGWETKLVGFRBJV'},\n",
       " u'object': {u'business_desc': u'0',\n",
       "  u'detail_desc': u'259',\n",
       "  u'type_desc': u'19'}}"
      ]
     },
     "execution_count": 56,
     "metadata": {},
     "output_type": "execute_result"
    }
   ],
   "source": [
    "data['attrs'].apply(lambda x:json.loads(x))[2]"
   ]
  },
  {
   "cell_type": "markdown",
   "metadata": {},
   "source": [
    "# MyBank 交易"
   ]
  },
  {
   "cell_type": "code",
   "execution_count": 57,
   "metadata": {
    "collapsed": false
   },
   "outputs": [
    {
     "data": {
      "text/html": [
       "<div>\n",
       "<table border=\"1\" class=\"dataframe\">\n",
       "  <thead>\n",
       "    <tr style=\"text-align: right;\">\n",
       "      <th></th>\n",
       "      <th>actor_type</th>\n",
       "      <th>actor_id</th>\n",
       "      <th>action_type</th>\n",
       "      <th>action_time</th>\n",
       "      <th>object_type</th>\n",
       "      <th>object_id</th>\n",
       "      <th>channel_type</th>\n",
       "      <th>channel_id</th>\n",
       "      <th>attrs</th>\n",
       "      <th>partition_time</th>\n",
       "      <th>theme</th>\n",
       "    </tr>\n",
       "  </thead>\n",
       "  <tbody>\n",
       "    <tr>\n",
       "      <th>0</th>\n",
       "      <td>customer_id</td>\n",
       "      <td>1</td>\n",
       "      <td>fund</td>\n",
       "      <td>3697321967</td>\n",
       "      <td>fixed_quota_purchase</td>\n",
       "      <td>SDLVBDHYUISVGAZYIEIN</td>\n",
       "      <td>digital</td>\n",
       "      <td>MMB</td>\n",
       "      <td>{\"action\": {\"amt\": 91.474572845663, \"currency_...</td>\n",
       "      <td>3696969600</td>\n",
       "      <td>mybank</td>\n",
       "    </tr>\n",
       "    <tr>\n",
       "      <th>1</th>\n",
       "      <td>customer_id</td>\n",
       "      <td>1</td>\n",
       "      <td>fund</td>\n",
       "      <td>3698028058</td>\n",
       "      <td>general_purchase</td>\n",
       "      <td>UOHNJGTLKWKMTWFRJCNY</td>\n",
       "      <td>digital</td>\n",
       "      <td>MyBank</td>\n",
       "      <td>{\"action\": {\"amt\": 265.9391093833861, \"currenc...</td>\n",
       "      <td>3696969600</td>\n",
       "      <td>mybank</td>\n",
       "    </tr>\n",
       "    <tr>\n",
       "      <th>2</th>\n",
       "      <td>customer_id</td>\n",
       "      <td>1</td>\n",
       "      <td>TWD_demand_deposit</td>\n",
       "      <td>3698372432</td>\n",
       "      <td>other_payment</td>\n",
       "      <td>YOJMXCCREMKJEOKLWUIZ</td>\n",
       "      <td>digital</td>\n",
       "      <td>MMB</td>\n",
       "      <td>{\"action\": {\"amt\": 1180.8381120081665, \"curren...</td>\n",
       "      <td>3696969600</td>\n",
       "      <td>mybank</td>\n",
       "    </tr>\n",
       "    <tr>\n",
       "      <th>3</th>\n",
       "      <td>customer_id</td>\n",
       "      <td>1</td>\n",
       "      <td>fund</td>\n",
       "      <td>3698843013</td>\n",
       "      <td>fixed_quota_purchase</td>\n",
       "      <td>HVJOKMKXLVKBRNAJAIIJ</td>\n",
       "      <td>digital</td>\n",
       "      <td>MMB</td>\n",
       "      <td>{\"action\": {\"amt\": 100.14596102428943, \"curren...</td>\n",
       "      <td>3696969600</td>\n",
       "      <td>mybank</td>\n",
       "    </tr>\n",
       "    <tr>\n",
       "      <th>4</th>\n",
       "      <td>customer_id</td>\n",
       "      <td>1</td>\n",
       "      <td>TWD_demand_deposit</td>\n",
       "      <td>3698973458</td>\n",
       "      <td>other_payment</td>\n",
       "      <td>CIVHDCIULWPPNTKNMRVJ</td>\n",
       "      <td>digital</td>\n",
       "      <td>MyBank</td>\n",
       "      <td>{\"action\": {\"amt\": 307.9567944107193, \"currenc...</td>\n",
       "      <td>3696969600</td>\n",
       "      <td>mybank</td>\n",
       "    </tr>\n",
       "    <tr>\n",
       "      <th>5</th>\n",
       "      <td>customer_id</td>\n",
       "      <td>1</td>\n",
       "      <td>TWD_demand_deposit</td>\n",
       "      <td>3699293231</td>\n",
       "      <td>credit_card_payment</td>\n",
       "      <td>FJSDRFJFKURQPODNITVR</td>\n",
       "      <td>digital</td>\n",
       "      <td>MMB</td>\n",
       "      <td>{\"action\": {\"amt\": 3350.2992616903757, \"curren...</td>\n",
       "      <td>3696969600</td>\n",
       "      <td>mybank</td>\n",
       "    </tr>\n",
       "  </tbody>\n",
       "</table>\n",
       "</div>"
      ],
      "text/plain": [
       "    actor_type  actor_id         action_type  action_time  \\\n",
       "0  customer_id         1                fund   3697321967   \n",
       "1  customer_id         1                fund   3698028058   \n",
       "2  customer_id         1  TWD_demand_deposit   3698372432   \n",
       "3  customer_id         1                fund   3698843013   \n",
       "4  customer_id         1  TWD_demand_deposit   3698973458   \n",
       "5  customer_id         1  TWD_demand_deposit   3699293231   \n",
       "\n",
       "            object_type             object_id channel_type channel_id  \\\n",
       "0  fixed_quota_purchase  SDLVBDHYUISVGAZYIEIN      digital        MMB   \n",
       "1      general_purchase  UOHNJGTLKWKMTWFRJCNY      digital     MyBank   \n",
       "2         other_payment  YOJMXCCREMKJEOKLWUIZ      digital        MMB   \n",
       "3  fixed_quota_purchase  HVJOKMKXLVKBRNAJAIIJ      digital        MMB   \n",
       "4         other_payment  CIVHDCIULWPPNTKNMRVJ      digital     MyBank   \n",
       "5   credit_card_payment  FJSDRFJFKURQPODNITVR      digital        MMB   \n",
       "\n",
       "                                               attrs  partition_time   theme  \n",
       "0  {\"action\": {\"amt\": 91.474572845663, \"currency_...      3696969600  mybank  \n",
       "1  {\"action\": {\"amt\": 265.9391093833861, \"currenc...      3696969600  mybank  \n",
       "2  {\"action\": {\"amt\": 1180.8381120081665, \"curren...      3696969600  mybank  \n",
       "3  {\"action\": {\"amt\": 100.14596102428943, \"curren...      3696969600  mybank  \n",
       "4  {\"action\": {\"amt\": 307.9567944107193, \"currenc...      3696969600  mybank  \n",
       "5  {\"action\": {\"amt\": 3350.2992616903757, \"curren...      3696969600  mybank  "
      ]
     },
     "execution_count": 57,
     "metadata": {},
     "output_type": "execute_result"
    }
   ],
   "source": [
    "data=pd.read_csv(\"mybank_1.csv\")\n",
    "data"
   ]
  },
  {
   "cell_type": "markdown",
   "metadata": {},
   "source": [
    "## attrs 裡面的資料"
   ]
  },
  {
   "cell_type": "code",
   "execution_count": 58,
   "metadata": {
    "collapsed": false
   },
   "outputs": [
    {
     "data": {
      "text/plain": [
       "{u'action': {u'amt': 91.474572845663, u'currency_code': u'TWD'}}"
      ]
     },
     "execution_count": 58,
     "metadata": {},
     "output_type": "execute_result"
    }
   ],
   "source": [
    "data['attrs'].apply(lambda x:json.loads(x))[0]"
   ]
  },
  {
   "cell_type": "code",
   "execution_count": 59,
   "metadata": {
    "collapsed": false
   },
   "outputs": [
    {
     "data": {
      "text/plain": [
       "{u'action': {u'amt': 265.9391093833861, u'currency_code': u'TWD'}}"
      ]
     },
     "execution_count": 59,
     "metadata": {},
     "output_type": "execute_result"
    }
   ],
   "source": [
    "data['attrs'].apply(lambda x:json.loads(x))[1]"
   ]
  },
  {
   "cell_type": "code",
   "execution_count": 60,
   "metadata": {
    "collapsed": false
   },
   "outputs": [
    {
     "data": {
      "text/plain": [
       "{u'action': {u'amt': 1180.8381120081665, u'currency_code': u'USD'}}"
      ]
     },
     "execution_count": 60,
     "metadata": {},
     "output_type": "execute_result"
    }
   ],
   "source": [
    "data['attrs'].apply(lambda x:json.loads(x))[2]"
   ]
  },
  {
   "cell_type": "code",
   "execution_count": null,
   "metadata": {
    "collapsed": true
   },
   "outputs": [],
   "source": []
  },
  {
   "cell_type": "code",
   "execution_count": null,
   "metadata": {
    "collapsed": true
   },
   "outputs": [],
   "source": []
  }
 ],
 "metadata": {
  "kernelspec": {
   "display_name": "Python 2",
   "language": "python",
   "name": "python2"
  },
  "language_info": {
   "codemirror_mode": {
    "name": "ipython",
    "version": 2
   },
   "file_extension": ".py",
   "mimetype": "text/x-python",
   "name": "python",
   "nbconvert_exporter": "python",
   "pygments_lexer": "ipython2",
   "version": "2.7.10"
  }
 },
 "nbformat": 4,
 "nbformat_minor": 0
}
